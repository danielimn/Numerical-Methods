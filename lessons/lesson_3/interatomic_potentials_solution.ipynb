{
  "cells": [
    {
      "cell_type": "code",
      "execution_count": null,
      "id": "de96b4b3",
      "metadata": {
        "id": "de96b4b3"
      },
      "outputs": [],
      "source": [
        "%%capture install\n",
        "try:\n",
        "  import imlms\n",
        "  print('Already installed')\n",
        "except:\n",
        "  %pip install git+https://github.com/Mads-PeterVC/imlms"
      ]
    },
    {
      "cell_type": "code",
      "execution_count": null,
      "id": "5a829a8e",
      "metadata": {
        "id": "5a829a8e"
      },
      "outputs": [],
      "source": [
        "print(install.stdout.splitlines()[-1])"
      ]
    },
    {
      "cell_type": "code",
      "execution_count": null,
      "id": "42bf2204",
      "metadata": {
        "id": "42bf2204"
      },
      "outputs": [],
      "source": [
        "import numpy as np"
      ]
    },
    {
      "cell_type": "markdown",
      "id": "0fe74b2f",
      "metadata": {
        "id": "0fe74b2f"
      },
      "source": [
        "# Interatomic Potentials"
      ]
    },
    {
      "cell_type": "markdown",
      "id": "e354e1d7",
      "metadata": {
        "id": "e354e1d7"
      },
      "source": [
        "Interatomic potentials are a key concept in materials science.\n",
        "\n",
        "We have seen previously that we can predict e.g. lattice constants and adsorption sites\n",
        "using a potential.\n",
        "\n",
        "For now we will work with a simple Lennard Jones potential."
      ]
    },
    {
      "cell_type": "markdown",
      "id": "9d87c366",
      "metadata": {
        "id": "9d87c366"
      },
      "source": [
        "## The Lennard Jones Potential"
      ]
    },
    {
      "cell_type": "markdown",
      "id": "9d6a3962",
      "metadata": {
        "id": "9d6a3962"
      },
      "source": [
        "The Lennard Jones potential is among the simplest analytical potentials, it is a\n",
        "two-body potential where the interaction between a pair of atoms is given by\n",
        "$$\n",
        "V(r) = 4 \\epsilon \\left[ \\left(\\frac{\\sigma}{r}\\right)^{12} - \\left(\\frac{\\sigma}{r}\\right)^{6} \\right]\n",
        "$$\n",
        "\n",
        "Where $r$ is the distance between the atoms $\\sigma$ is a parameter that determines the\n",
        "location of the minimum and $\\epsilon$ determines the depth of the minimum."
      ]
    },
    {
      "cell_type": "markdown",
      "id": "a14278b4",
      "metadata": {
        "id": "a14278b4"
      },
      "source": [
        "### Exercise: Energy of a pair of atoms.\n",
        "\n",
        "Implement a function that takes the distance `r`, `sigma` and `epsilon` and returns the Lennard Jones\n",
        "potential."
      ]
    },
    {
      "cell_type": "code",
      "execution_count": null,
      "id": "2dc5b661",
      "metadata": {
        "id": "2dc5b661"
      },
      "outputs": [],
      "source": [
        "def get_lj_energy(r, sigma, epsilon):\n",
        "    E = 4 * epsilon * ((sigma / r) ** 12 - (sigma / r) ** 6)\n",
        "    return E"
      ]
    },
    {
      "cell_type": "markdown",
      "id": "aedbdd61",
      "metadata": {
        "id": "aedbdd61"
      },
      "source": [
        "It is often best to work with functions that take arrays as that allows for avoiding\n",
        "slow for-loops. So test whether your function works with an `numpy` array - otherwise\n",
        "change it so that it does;"
      ]
    },
    {
      "cell_type": "code",
      "execution_count": null,
      "id": "cc4212b0",
      "metadata": {
        "id": "cc4212b0",
        "outputId": "2dcf734c-f8bf-489c-a3e5-5fc1de59c85f"
      },
      "outputs": [
        {
          "data": {
            "text/plain": [
              "array([-1.        , -0.03100586, -0.0027416 ])"
            ]
          },
          "execution_count": 5,
          "metadata": {},
          "output_type": "execute_result"
        }
      ],
      "source": [
        "get_lj_energy(np.array([1, 2, 3]), 2**(-1/6), 1) # Your function works if the first value of output array is -1.0"
      ]
    },
    {
      "cell_type": "markdown",
      "id": "dbab8018",
      "metadata": {
        "id": "dbab8018"
      },
      "source": [
        "Plot the energy as a function of $r$ and play around with the parameters to get a feel for what they do."
      ]
    },
    {
      "cell_type": "markdown",
      "id": "3de21c06",
      "metadata": {
        "id": "3de21c06"
      },
      "source": [
        "### Exercise: Energy of an `Atoms` object."
      ]
    },
    {
      "cell_type": "markdown",
      "id": "c8ac1b75",
      "metadata": {
        "id": "c8ac1b75"
      },
      "source": [
        "Implement a function `calculate` that takes an `Atoms`-object, `sigma` and `epsilon` and returns the\n",
        "total energy according to the Lennard Jones expression.\n",
        "\n",
        "Hint: First create an array that contains the distance between all pairs of atoms,\n",
        "you can use the [`pdist`](https://docs.scipy.org/doc/scipy/reference/generated/scipy.spatial.distance.pdist.html)\n",
        "function from scipy to do this. Then pass that to your `get_lj_energy` function and sum\n",
        "all the terms together.\n",
        "\n",
        "Hint: You can get the positions of the atoms object with `atoms.positions`\n",
        "\n",
        "Hint: Use `np.sum` to sum over the returned values of `get_lj_energy`"
      ]
    },
    {
      "cell_type": "code",
      "execution_count": null,
      "id": "3a4f484f",
      "metadata": {
        "id": "3a4f484f"
      },
      "outputs": [],
      "source": [
        "from scipy.spatial.distance import pdist\n",
        "\n",
        "def calculate(atoms, sigma, epsilon):\n",
        "    d = pdist(atoms)\n",
        "    E = np.sum(get_lj_energy(d, sigma, epsilon))\n",
        "    return E"
      ]
    },
    {
      "cell_type": "code",
      "execution_count": null,
      "id": "ca586a81",
      "metadata": {
        "id": "ca586a81",
        "outputId": "5969d2be-64df-441d-af15-a6f44c9aaee1"
      },
      "outputs": [
        {
          "name": "stdout",
          "output_type": "stream",
          "text": [
            "Energy for r = 0.80 is 6.92\n",
            "Energy for r = 1.00 is -1.00\n",
            "Energy for r = 1.20 is -0.56\n"
          ]
        }
      ],
      "source": [
        "for r in [0.8, 1.0, 1.2]:\n",
        "\n",
        "    atoms = Atoms('H2', positions=[[0, 0, 0], [r, 0, 0]])\n",
        "    E = calculate(atoms.positions, 2**(-1/6), 1)\n",
        "    print(f'Energy for r = {r:0.2f} is {E:0.2f}')"
      ]
    },
    {
      "cell_type": "markdown",
      "id": "ed024bd2",
      "metadata": {
        "id": "ed024bd2"
      },
      "source": [
        "### Exercise: Lennard Jones with Object Oriented Programming"
      ]
    },
    {
      "cell_type": "markdown",
      "id": "d9e5c9c0",
      "metadata": {
        "id": "d9e5c9c0"
      },
      "source": [
        "The code we have written so far is functional; we have created functions that take some input and return output - without\n",
        "any type of state/memory. Yet, the inputs we have passed are not really of the same type - the `Atoms` object is\n",
        "really the variable and `sigma` and `epsilon` are parameters of the function.\n",
        "\n",
        "If is often beneficial to create classes in these types of situations and is very\n",
        "commonly done."
      ]
    },
    {
      "cell_type": "markdown",
      "id": "311139b3",
      "metadata": {
        "id": "311139b3"
      },
      "source": [
        "### Exercise: Computing forces"
      ]
    },
    {
      "cell_type": "markdown",
      "id": "aa906991",
      "metadata": {
        "id": "aa906991"
      },
      "source": [
        "It is often useful to calculate not only the energy but also the force on each atom. The components\n",
        "of the forces are given by\n",
        "$$\n",
        "F_i^\\alpha = -\\frac{\\partial E}{\\partial x_i^\\alpha}\n",
        "$$\n",
        "\n",
        "Where $i$ indicates the atom and $\\alpha$ denotes either the $x$, $y$ or $z$ dimension.\n",
        "\n",
        "This can be applied to the Lennard Jones expression, but it is cumbersome and\n",
        "more difficult to implement than the potential itself - but if you want to try\n",
        "you can. Note that the potential is not given directly in terms of the coordinates,\n",
        "but rather in terms of the distance between atoms, so that needs to be taken into account.\n",
        "\n",
        "This exercise is very **optional** and probably best left as an extra for the interested."
      ]
    },
    {
      "cell_type": "markdown",
      "id": "fec27488",
      "metadata": {
        "id": "fec27488"
      },
      "source": [
        "### Exercise: Lennard Jones with Pytorch"
      ]
    },
    {
      "cell_type": "markdown",
      "id": "572756d6",
      "metadata": {
        "id": "572756d6"
      },
      "source": [
        "As stepping stone to implementing neural network based potentials we will first\n",
        "look at implementing the Lennard Jones potential using Pytorch.\n",
        "\n",
        "To do so, we should replace all `numpy` or `scipy` functions in our implementation\n",
        "with `torch` functions and any use of arrays from `numpy` should be replaced\n",
        "with `torch.tensor`.\n",
        "\n",
        "One of the main benefits of doing this is that we can calculate forces using\n",
        "*automatic differentiation* the same technique that enables training of neural networks.\n",
        "\n",
        "In the cell below you should fill out the left out code."
      ]
    },
    {
      "cell_type": "code",
      "execution_count": null,
      "id": "2b98b388",
      "metadata": {
        "id": "2b98b388"
      },
      "outputs": [],
      "source": [
        "\n",
        "import torch\n",
        "\n",
        "class LennardJonesTorch:\n",
        "\n",
        "    def __init__(self, sigma=1.0, epsilon=1.0):\n",
        "        self.sigma = sigma\n",
        "        self.epsilon = epsilon\n",
        "\n",
        "    def atoms_to_tensor(self, atoms):\n",
        "        return torch.tensor(atoms.positions, requires_grad=True)\n",
        "\n",
        "    def get_lj_energy(self, r):\n",
        "        # Calculate the Lennard-Jones energy using the class attributes\n",
        "        # self.sigma and self.epsilon.\n",
        "        return 4 * self.epsilon * ((self.sigma/r)**12 - (self.sigma/r)**6)\n",
        "\n",
        "    def get_forces(self, energy, positions):\n",
        "        return -torch.autograd.grad(energy, positions, retain_graph=True)[0]\n",
        "\n",
        "    def calculate(self, atoms):\n",
        "        # Convert the positions to a tensor\n",
        "        positions = self.atoms_to_tensor(atoms)\n",
        "        return self.forward(positions)\n",
        "\n",
        "    def forward(self, positions):\n",
        "        # Calculate the pairwise distances\n",
        "        d = torch.pdist(positions)\n",
        "\n",
        "        # Calculate the Lennard-Jones energy\n",
        "        E = torch.sum(self.get_lj_energy(d))\n",
        "        F = self.get_forces(E, positions)\n",
        "\n",
        "        # Return the energy and forces\n",
        "        E = E.detach().numpy() # Convert back to numpy\n",
        "        F = F.detach().numpy()\n",
        "        return E, F"
      ]
    },
    {
      "cell_type": "code",
      "execution_count": null,
      "id": "7bafc5c8",
      "metadata": {
        "id": "7bafc5c8",
        "outputId": "53e33a68-389b-4d82-b7ec-411c5fb6c7f9"
      },
      "outputs": [
        {
          "name": "stdout",
          "output_type": "stream",
          "text": [
            "r = 0.80\n",
            "\tEnergy = 6.92\n",
            "\t Left atom force = -161.06\n",
            "\t Right atom force = 161.06\n",
            "r = 1.00\n",
            "\tEnergy = -1.00\n",
            "\t Left atom force = 0.00\n",
            "\t Right atom force = -0.00\n",
            "r = 1.20\n",
            "\tEnergy = -0.56\n",
            "\t Left atom force = 2.23\n",
            "\t Right atom force = -2.23\n"
          ]
        }
      ],
      "source": [
        "from ase import Atoms\n",
        "\n",
        "LJT = LennardJonesTorch(sigma=2**(-1/6))\n",
        "\n",
        "for r in [0.8, 1.0, 1.2]:\n",
        "    atoms = Atoms('H2', positions=[[0.0, 0.0, 0.0], [r, 0.0, 0.0]])\n",
        "\n",
        "    energy, forces = LJT.calculate(atoms)\n",
        "\n",
        "    print(f'r = {r:0.2f}')\n",
        "    print(f'\\tEnergy = {energy:0.2f}')\n",
        "    print(f'\\t Left atom force = {forces[0][0]:0.2f}')\n",
        "    print(f'\\t Right atom force = {forces[1][0]:0.2f}')"
      ]
    },
    {
      "cell_type": "markdown",
      "id": "044dd23e",
      "metadata": {
        "id": "044dd23e"
      },
      "source": [
        "You should find the following;\n",
        "\n",
        "- At `r = 0.80` there is a large repulsive force between the atoms as the bond length is significantly smaller than the equilibrium.\n",
        "- At `r = 1.00` the is no force as the atoms are at the equilibrium bond length.\n",
        "- At `r = 12.0` there is an attractive force between the atoms as the bond is now stretched beyond the equilibrium."
      ]
    },
    {
      "cell_type": "markdown",
      "id": "48ddf68f",
      "metadata": {
        "id": "48ddf68f"
      },
      "source": [
        "### Exercise: Using atomic forces"
      ]
    },
    {
      "cell_type": "markdown",
      "id": "f223fde5",
      "metadata": {
        "id": "f223fde5"
      },
      "source": [
        "One common use case of atomic forces is local optimization or 'relaxation'.\n",
        "Here the energy is minimized by moving the atoms according to the forces,\n",
        "this is analagous to a ball rolling down a hill to find a\n",
        "position that minimizes the gravitational potential energy.\n",
        "\n",
        "ASE makes this very easy, the code below converts your `LennardJonesTorch`\n",
        "to an `ase` `Calculator` such that it can interface with the rest of the functionality."
      ]
    },
    {
      "cell_type": "code",
      "execution_count": null,
      "id": "a7908350",
      "metadata": {
        "id": "a7908350",
        "outputId": "a8b3ddf9-3917-48c1-bec1-144b0030b1a7"
      },
      "outputs": [
        {
          "name": "stdout",
          "output_type": "stream",
          "text": [
            "-0.3203365942785745\n"
          ]
        }
      ],
      "source": [
        "from imlms import get_calculator_from_class\n",
        "\n",
        "LJT = get_calculator_from_class(LennardJonesTorch)(sigma=1.0, epsilon=1.0)\n",
        "\n",
        "atoms = Atoms('H2', positions=[[0.0, 0.0, 0.0], [1.5, 0.0, 0.0]])\n",
        "atoms.calc = LJT\n",
        "E = atoms.get_potential_energy()\n",
        "print(E)"
      ]
    },
    {
      "cell_type": "markdown",
      "id": "45338ebf",
      "metadata": {
        "id": "45338ebf"
      },
      "source": [
        "Read this section on [optimizers](https://wiki.fysik.dtu.dk/ase/gettingstarted/tut02_h2o_structure/h2o.html#optimizers)\n",
        "from the `ase` documentation and relax a small molecule, e.g. H2 with your Lennard Jones potential."
      ]
    },
    {
      "cell_type": "code",
      "execution_count": null,
      "id": "91ad3804",
      "metadata": {
        "id": "91ad3804",
        "outputId": "5e2c7891-8c45-493a-886e-3ee39c4daa25"
      },
      "outputs": [
        {
          "name": "stdout",
          "output_type": "stream",
          "text": [
            "      Step     Time          Energy          fmax\n",
            "BFGS:    0 12:18:18       -0.320337        1.158029\n",
            "BFGS:    1 12:18:18       -0.361161        1.312428\n",
            "BFGS:    2 12:18:18       -0.921519        2.041011\n",
            "BFGS:    3 12:18:18       55.298954      974.487533\n",
            "BFGS:    4 12:18:18       -0.923220        2.028761\n",
            "BFGS:    5 12:18:18       -0.924897        2.016337\n",
            "BFGS:    6 12:18:18       -0.752559        8.517609\n",
            "BFGS:    7 12:18:18       -0.970548        1.472894\n",
            "BFGS:    8 12:18:18       -0.990140        0.939655\n",
            "BFGS:    9 12:18:18       -0.997803        0.528593\n",
            "BFGS:   10 12:18:18       -0.999924        0.092418\n",
            "BFGS:   11 12:18:18       -1.000000        0.007274\n",
            "BFGS:   12 12:18:18       -1.000000        0.000113\n",
            "-0.9999999998888873\n"
          ]
        }
      ],
      "source": [
        "from ase.optimize import BFGS\n",
        "\n",
        "atoms = Atoms('H2', positions=[[0.0, 0.0, 0.0], [1.5, 0.0, 0.0]])\n",
        "atoms.calc = LJT\n",
        "\n",
        "optimizer = BFGS(atoms)\n",
        "optimizer.run(fmax=1e-3)\n",
        "\n",
        "print(atoms.get_potential_energy())"
      ]
    },
    {
      "cell_type": "markdown",
      "id": "b0beeb18",
      "metadata": {
        "id": "b0beeb18"
      },
      "source": [
        "The cell below creates a random cluster of ten Helium atoms and relaxes it using our\n",
        "Lennard Jones model written in Pytorch."
      ]
    },
    {
      "cell_type": "code",
      "execution_count": null,
      "id": "09094a0f",
      "metadata": {
        "id": "09094a0f",
        "outputId": "1b17a17b-4cd9-4733-8f79-6f9046c8a17d"
      },
      "outputs": [
        {
          "data": {
            "image/png": "[encoded data removed]",
            "text/plain": [
              "<Figure size 600x300 with 2 Axes>"
            ]
          },
          "metadata": {},
          "output_type": "display_data"
        }
      ],
      "source": [
        "import matplotlib.pyplot as plt\n",
        "from imlms.potentials.get_random_cluster import get_random_cluster, plot_atoms, plot_cell\n",
        "from ase.constraints import FixedPlane\n",
        "\n",
        "atoms = get_random_cluster()\n",
        "\n",
        "optimized = atoms.copy()\n",
        "optimized.calc = LJT\n",
        "optimized.set_constraint(FixedPlane(np.arange(len(atoms)), [0, 0, 1])) # Fix the z-coordinate\n",
        "optimizer = BFGS(optimized, logfile=None)\n",
        "optimizer.run(fmax=1e-3)\n",
        "optimized.center() # Center the atoms\n",
        "\n",
        "fig, axes = plt.subplots(1, 2, figsize=(6, 3))\n",
        "\n",
        "for ax, atoms in zip(axes, [atoms, optimized]):\n",
        "    plot_atoms(ax, atoms)\n",
        "    plot_cell(ax, atoms.cell)\n"
      ]
    }
  ],
  "metadata": {
    "colab": {
      "provenance": []
    },
    "language_info": {
      "name": "python"
    },
    "kernelspec": {
      "name": "python3",
      "display_name": "Python 3"
    }
  },
  "nbformat": 4,
  "nbformat_minor": 5
}