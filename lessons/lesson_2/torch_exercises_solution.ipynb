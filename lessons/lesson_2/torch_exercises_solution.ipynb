{
  "cells": [
    {
      "cell_type": "code",
      "execution_count": 1,
      "id": "01c8a891",
      "metadata": {
        "id": "01c8a891"
      },
      "outputs": [],
      "source": [
        "%%capture install\n",
        "try:\n",
        "  import imlms\n",
        "  print('Already installed')\n",
        "except:\n",
        "  %pip install git+https://github.com/Mads-PeterVC/imlms"
      ]
    },
    {
      "cell_type": "code",
      "execution_count": 3,
      "id": "7e9c362a",
      "metadata": {
        "id": "7e9c362a",
        "outputId": "12d26080-b1ac-4955-f2d6-0d5b8c188b03",
        "colab": {
          "base_uri": "https://localhost:8080/"
        }
      },
      "outputs": [
        {
          "output_type": "stream",
          "name": "stdout",
          "text": [
            "Successfully installed agox-3.9.0 ase-3.24.0 braceexpand-0.1.7 dscribe-2.1.1 e3nn-0.5.4 imlms-0.1.0 matscipy-1.1.1 opt-einsum-fx-0.1.4 ray-2.41.0 rich-click-1.8.5 sevenn-0.10.3 sparse-0.15.5 torch_geometric-2.6.1\n"
          ]
        }
      ],
      "source": [
        "print(install.stdout.splitlines()[-1])"
      ]
    },
    {
      "cell_type": "code",
      "execution_count": 2,
      "id": "0d4794a2",
      "metadata": {
        "id": "0d4794a2"
      },
      "outputs": [],
      "source": [
        "import torch\n",
        "import matplotlib.pyplot as plt"
      ]
    },
    {
      "cell_type": "markdown",
      "id": "abbe8ba4",
      "metadata": {
        "id": "abbe8ba4"
      },
      "source": [
        "# Pytorch"
      ]
    },
    {
      "cell_type": "markdown",
      "id": "5843a9c2",
      "metadata": {
        "id": "5843a9c2"
      },
      "source": [
        "Pytorch is a package that is very commonly used for machine learning. One primary\n",
        "reason for this is *automatic differentiation*.\n",
        "\n",
        "As you probably know analytically differentiating a function is a tiresome process and\n",
        "implementing a program to calculate them is generally more complicated than calculating\n",
        "the function itself.\n",
        "\n",
        "Auto differentiation is a way of avoiding this hurdle."
      ]
    },
    {
      "cell_type": "markdown",
      "id": "6d52831b",
      "metadata": {
        "id": "6d52831b"
      },
      "source": [
        "### Example: Auto differentiation of a simple function."
      ]
    },
    {
      "cell_type": "markdown",
      "id": "437e7edd",
      "metadata": {
        "id": "437e7edd"
      },
      "source": [
        "We can try auto-diff for the trivial function\n",
        "\n",
        "$$\n",
        "f(x) = x^2\n",
        "$$\n",
        "\n",
        "Where the derivative is\n",
        "\n",
        "$$\n",
        "f'(x) = 2x\n",
        "$$"
      ]
    },
    {
      "cell_type": "code",
      "execution_count": 4,
      "id": "5fbe7da2",
      "metadata": {
        "id": "5fbe7da2"
      },
      "outputs": [],
      "source": [
        "def f(x):\n",
        "    return x**2\n",
        "\n",
        "def f_prime(x):\n",
        "    return 2*x"
      ]
    },
    {
      "cell_type": "markdown",
      "id": "d96e8c35",
      "metadata": {
        "id": "d96e8c35"
      },
      "source": [
        "Nothing special about these function definitions, they are completely normal Python code."
      ]
    },
    {
      "cell_type": "code",
      "execution_count": 5,
      "id": "fef0a205",
      "metadata": {
        "id": "fef0a205"
      },
      "outputs": [],
      "source": [
        "x = torch.linspace(0, 10, 100, requires_grad=True) # Line 1\n",
        "y = f(x) # Line 2\n",
        "y_prime_auto = torch.autograd.grad(y, x, grad_outputs=torch.ones_like(y))[0] # Line 3"
      ]
    },
    {
      "cell_type": "markdown",
      "id": "1dbf1f0e",
      "metadata": {
        "id": "1dbf1f0e"
      },
      "source": [
        "Here some magic happens that we will digest later, but first visually that the\n",
        "two ways of calculating the derivative worked."
      ]
    },
    {
      "cell_type": "code",
      "execution_count": 6,
      "id": "d49f6dbe",
      "metadata": {
        "id": "d49f6dbe",
        "outputId": "55505288-56c1-4de5-8af4-16bce224ebd6",
        "colab": {
          "base_uri": "https://localhost:8080/",
          "height": 314
        }
      },
      "outputs": [
        {
          "output_type": "display_data",
          "data": {
            "text/plain": [
              "<Figure size 500x300 with 1 Axes>"
            ],
            "image/png": "[encoded data removed]"
          },
          "metadata": {}
        }
      ],
      "source": [
        "fig, ax = plt.subplots(figsize=(5, 3))\n",
        "\n",
        "y_prime = f_prime(x) # Calculate the analytical derivative to compare against.\n",
        "\n",
        "ax.plot(x.detach().numpy(), y_prime.detach().numpy(), label=\"f'(x)\")\n",
        "ax.plot(x.detach().numpy(), y_prime_auto.detach().numpy(), '--', label=\"f'(x) auto\")\n",
        "\n",
        "difference = torch.abs(y_prime - y_prime_auto).sum()\n",
        "ax.set_title(f\"Sum of differences: {difference.item():.8f}\")\n",
        "\n",
        "ax.legend()\n",
        "plt.show()"
      ]
    },
    {
      "cell_type": "markdown",
      "id": "8b6d4dab",
      "metadata": {
        "id": "8b6d4dab"
      },
      "source": [
        "Now lets work through the details of the calculation\n",
        "\n",
        "1. `x = torch.linspace(0, 10, 100, requires_grad=True)`\n",
        "    - Here we create a `torch.Tensor` of values ranging from 1 to 100. The `requires_grad=True` argument tells torch that we will want gradients wrt. `x` of any calculations done with `x`.\n",
        "2. `y = f(x)`\n",
        "    - We calculate the function value, nothing special here except that because `x` is a `torch.Tensor` the calculation happens in torch.\n",
        "3. `y_prime_auto = torch.autograd.grad(y, x, grad_outputs=torch.ones_like(y))[0]`\n",
        "    - The `torch.autograd.grad` function will compute the derivative of the first argument wrt. to the second. The `grad_outputs=torch.ones_like(y)` argument is only necessary because we have vectors for `y` rather than just a single scalar."
      ]
    },
    {
      "cell_type": "markdown",
      "id": "ad01f437",
      "metadata": {
        "id": "ad01f437"
      },
      "source": [
        "You may have noticed that sometimes syntax like `x.detach().numpy()` is used.\n",
        "\n",
        "This is done in order for torch to allow the tensor to be converted to a Numpy array.\n",
        "The detach statement is telling Torch that it doesn't need to keep track off computations with the\n",
        "returned tensor.\n",
        "\n",
        "The same can be realized with `with torch.no_grad()` telling torch that computations done within that context\n",
        "won't need to have gradients calculated."
      ]
    },
    {
      "cell_type": "markdown",
      "id": "bdf38eb9",
      "metadata": {
        "id": "bdf38eb9"
      },
      "source": [
        "### Exercise: Another polynomial"
      ]
    },
    {
      "cell_type": "markdown",
      "id": "0b7837a5",
      "metadata": {
        "id": "0b7837a5"
      },
      "source": [
        "Consider the function\n",
        "\n",
        "$$\n",
        "f(x) = x^3 + x^2 + x\n",
        "$$\n",
        "Use torch to compute the derivative in the interval [0, 10] and compare to the analytical solution"
      ]
    },
    {
      "cell_type": "code",
      "execution_count": 7,
      "id": "b49a510b",
      "metadata": {
        "id": "b49a510b"
      },
      "outputs": [],
      "source": [
        "def f(x):\n",
        "    return x**3 + x**2 + x\n",
        "\n",
        "def f_prime(x):\n",
        "    return 3*x**2 + 2*x + 1"
      ]
    },
    {
      "cell_type": "code",
      "execution_count": 8,
      "id": "1b4a8715",
      "metadata": {
        "id": "1b4a8715"
      },
      "outputs": [],
      "source": [
        "x = torch.linspace(0, 10, 100, requires_grad=True) # Line 1\n",
        "y = f(x) # Line 2\n",
        "y_prime_auto = torch.autograd.grad(y, x, grad_outputs=torch.ones_like(y))[0] # Line 3"
      ]
    },
    {
      "cell_type": "code",
      "execution_count": null,
      "id": "a45eb88c",
      "metadata": {
        "id": "a45eb88c",
        "outputId": "e8954313-ba09-4dfd-9238-0fc9b9347fef"
      },
      "outputs": [
        {
          "data": {
            "image/png": "[encoded data removed]",
            "text/plain": [
              "<Figure size 500x300 with 1 Axes>"
            ]
          },
          "metadata": {},
          "output_type": "display_data"
        }
      ],
      "source": [
        "fig, ax = plt.subplots(figsize=(5, 3))\n",
        "\n",
        "y_prime = f_prime(x) # Calculate the analytical derivative to compare against.\n",
        "\n",
        "ax.plot(x.detach().numpy(), y_prime.detach().numpy(), label=\"f'(x)\")\n",
        "ax.plot(x.detach().numpy(), y_prime_auto.detach().numpy(), '--', label=\"f'(x) auto\")\n",
        "\n",
        "difference = torch.abs(y_prime - y_prime_auto).sum()\n",
        "ax.set_title(f\"Sum of differences: {difference.item():.8f}\")\n",
        "\n",
        "ax.legend()\n",
        "plt.show()"
      ]
    },
    {
      "cell_type": "markdown",
      "id": "f589ff72",
      "metadata": {
        "id": "f589ff72"
      },
      "source": [
        "### Example: Higher-order derivatives"
      ]
    },
    {
      "cell_type": "markdown",
      "id": "c244f750",
      "metadata": {
        "id": "c244f750"
      },
      "source": [
        "We are not limited to just first-order derivatives, we can compute derivatives to arbitrary order using\n",
        "autodifferentiation."
      ]
    },
    {
      "cell_type": "code",
      "execution_count": 9,
      "id": "7eeb0f1a",
      "metadata": {
        "id": "7eeb0f1a"
      },
      "outputs": [],
      "source": [
        "def f(x):\n",
        "    return x**2"
      ]
    },
    {
      "cell_type": "code",
      "execution_count": 11,
      "id": "0a9ee5f3",
      "metadata": {
        "id": "0a9ee5f3",
        "outputId": "e9c42948-b8ec-4b45-d638-127831b32cc3",
        "colab": {
          "base_uri": "https://localhost:8080/"
        }
      },
      "outputs": [
        {
          "output_type": "stream",
          "name": "stdout",
          "text": [
            "tensor([ 0.0000,  0.2020,  0.4040,  0.6061,  0.8081,  1.0101,  1.2121,  1.4141,\n",
            "         1.6162,  1.8182,  2.0202,  2.2222,  2.4242,  2.6263,  2.8283,  3.0303,\n",
            "         3.2323,  3.4343,  3.6364,  3.8384,  4.0404,  4.2424,  4.4444,  4.6465,\n",
            "         4.8485,  5.0505,  5.2525,  5.4545,  5.6566,  5.8586,  6.0606,  6.2626,\n",
            "         6.4646,  6.6667,  6.8687,  7.0707,  7.2727,  7.4747,  7.6768,  7.8788,\n",
            "         8.0808,  8.2828,  8.4848,  8.6869,  8.8889,  9.0909,  9.2929,  9.4949,\n",
            "         9.6970,  9.8990, 10.1010, 10.3030, 10.5051, 10.7071, 10.9091, 11.1111,\n",
            "        11.3131, 11.5152, 11.7172, 11.9192, 12.1212, 12.3232, 12.5253, 12.7273,\n",
            "        12.9293, 13.1313, 13.3333, 13.5354, 13.7374, 13.9394, 14.1414, 14.3434,\n",
            "        14.5455, 14.7475, 14.9495, 15.1515, 15.3535, 15.5556, 15.7576, 15.9596,\n",
            "        16.1616, 16.3636, 16.5657, 16.7677, 16.9697, 17.1717, 17.3737, 17.5758,\n",
            "        17.7778, 17.9798, 18.1818, 18.3838, 18.5859, 18.7879, 18.9899, 19.1919,\n",
            "        19.3939, 19.5960, 19.7980, 20.0000], grad_fn=<MulBackward0>)\n",
            "tensor([2., 2., 2., 2., 2., 2., 2., 2., 2., 2., 2., 2., 2., 2., 2., 2., 2., 2.,\n",
            "        2., 2., 2., 2., 2., 2., 2., 2., 2., 2., 2., 2., 2., 2., 2., 2., 2., 2.,\n",
            "        2., 2., 2., 2., 2., 2., 2., 2., 2., 2., 2., 2., 2., 2., 2., 2., 2., 2.,\n",
            "        2., 2., 2., 2., 2., 2., 2., 2., 2., 2., 2., 2., 2., 2., 2., 2., 2., 2.,\n",
            "        2., 2., 2., 2., 2., 2., 2., 2., 2., 2., 2., 2., 2., 2., 2., 2., 2., 2.,\n",
            "        2., 2., 2., 2., 2., 2., 2., 2., 2., 2.])\n"
          ]
        }
      ],
      "source": [
        "x = torch.linspace(0, 10, 100, requires_grad=True)\n",
        "y = f(x)\n",
        "y_prime_auto = torch.autograd.grad(y, x, grad_outputs=torch.ones_like(y), create_graph=True)[0]\n",
        "y_prime_prime_auto = torch.autograd.grad(y_prime_auto, x, grad_outputs=torch.ones_like(y_prime_auto))[0]\n",
        "print(y_prime_auto)\n",
        "print(y_prime_prime_auto) # This will print a tensor of 2's as expected."
      ]
    },
    {
      "cell_type": "markdown",
      "id": "f442f4b7",
      "metadata": {
        "id": "f442f4b7"
      },
      "source": [
        "### Example: Multi-dimensional function"
      ]
    },
    {
      "cell_type": "markdown",
      "id": "63fbb7bf",
      "metadata": {
        "id": "63fbb7bf"
      },
      "source": [
        "We can use autodifferentiation to get all the partial derivatives of a function of\n",
        "multiple variables, e.g\n",
        "\n",
        "$$\n",
        "f(x, y) = 3 x^2 + 7 y^2 + xy\n",
        "$$"
      ]
    },
    {
      "cell_type": "code",
      "execution_count": null,
      "id": "3642cddf",
      "metadata": {
        "id": "3642cddf",
        "outputId": "f5d2b261-a5d0-48a4-91cb-3b75d2bb7d13"
      },
      "outputs": [
        {
          "name": "stdout",
          "output_type": "stream",
          "text": [
            "tensor([ 8., 29.], grad_fn=<AddBackward0>)\n"
          ]
        }
      ],
      "source": [
        "def f(tensor):\n",
        "    x = tensor[0]\n",
        "    y = tensor[1]\n",
        "    return 3 * x**2 + 7 * y**2 + x * y\n",
        "\n",
        "xy = torch.tensor([1.0, 2.0], requires_grad=True)\n",
        "\n",
        "z = f(xy)\n",
        "df = torch.autograd.grad(z, xy, create_graph=True)[0]\n",
        "print(df)"
      ]
    },
    {
      "cell_type": "markdown",
      "id": "04e4515e",
      "metadata": {
        "id": "04e4515e"
      },
      "source": [
        "### Exercise: Electric Field"
      ]
    },
    {
      "cell_type": "markdown",
      "id": "2e77aa9f",
      "metadata": {
        "id": "2e77aa9f"
      },
      "source": [
        "Consider the scalar potential of an electric charge\n",
        "\n",
        "$$\n",
        "V(\\bar{r}) = \\frac{kq}{|\\bar{r}-\\bar{r_0}|}\n",
        "$$\n",
        "\n",
        "Where $r_0$ is the position of the charge. In two dimensions we could write this as\n",
        "\n",
        "$$\n",
        "V(x, y) = \\frac{kq}{\\sqrt{(x-x_0)^2 + (y-y_0)^2}}\n",
        "$$\n",
        "\n",
        "As we know, the electric field is the negative gradient of the potential\n",
        "$$\n",
        "\\mathbf{E} = -\\nabla V\n",
        "$$\n",
        "Use Pytorch to calculate the electric field.\n",
        "\n",
        "Start by defining a function that calculates the potential as a function of a tensor $X$\n",
        "where the first element is $x$ and the second is $y$."
      ]
    },
    {
      "cell_type": "code",
      "execution_count": null,
      "id": "154e710f",
      "metadata": {
        "id": "154e710f"
      },
      "outputs": [],
      "source": [
        "x0 = 5.0\n",
        "y0 = 5.0\n",
        "\n",
        "def V(X):\n",
        "    x = X[0]\n",
        "    y = X[1]\n",
        "    r = torch.sqrt((x-x0)**2 + (y-y0)**2)\n",
        "    return 1/r"
      ]
    },
    {
      "cell_type": "markdown",
      "id": "8e29739e",
      "metadata": {
        "id": "8e29739e"
      },
      "source": [
        "Now define another function that calculates the electric field using automatic differentiation"
      ]
    },
    {
      "cell_type": "code",
      "execution_count": null,
      "id": "23bce5d9",
      "metadata": {
        "id": "23bce5d9"
      },
      "outputs": [],
      "source": [
        "def E(X):\n",
        "    v = V(X)\n",
        "    e = -torch.autograd.grad(v, X)[0]\n",
        "    return e"
      ]
    },
    {
      "cell_type": "markdown",
      "id": "f7c98bf5",
      "metadata": {
        "id": "f7c98bf5"
      },
      "source": [
        "Then we can try the function"
      ]
    },
    {
      "cell_type": "code",
      "execution_count": null,
      "id": "69ad7ed3",
      "metadata": {
        "id": "69ad7ed3",
        "outputId": "37c3a4b5-8197-4715-e23a-0dd203e91a52"
      },
      "outputs": [
        {
          "name": "stdout",
          "output_type": "stream",
          "text": [
            "tensor([-0.0221, -0.0221])\n"
          ]
        }
      ],
      "source": [
        "X = torch.tensor([1.0, 1.0], requires_grad=True)\n",
        "e = E(X)\n",
        "print(e)"
      ]
    },
    {
      "cell_type": "markdown",
      "id": "ddce1beb",
      "metadata": {
        "id": "ddce1beb"
      },
      "source": [
        "We can plot the field using a quiver plot"
      ]
    },
    {
      "cell_type": "code",
      "execution_count": null,
      "id": "85010ef1",
      "metadata": {
        "id": "85010ef1",
        "outputId": "c1d3509a-6cd8-4aea-928f-3a9ca5523fbe"
      },
      "outputs": [
        {
          "data": {
            "text/plain": [
              "(-0.5, 10.5, -0.5, 10.5)"
            ]
          },
          "execution_count": 9,
          "metadata": {},
          "output_type": "execute_result"
        },
        {
          "data": {
            "image/png": "[encoded data removed]",
            "text/plain": [
              "<Figure size 400x400 with 1 Axes>"
            ]
          },
          "metadata": {},
          "output_type": "display_data"
        }
      ],
      "source": [
        "N = 25\n",
        "field = torch.zeros((N, N, 2))\n",
        "\n",
        "x = torch.linspace(0, 10, N)\n",
        "y = torch.linspace(0, 10, N)\n",
        "\n",
        "for i, _x in enumerate(x):\n",
        "    for j, _y in enumerate(y):\n",
        "\n",
        "        if (_x - x0)**2 + (_y - y0)**2 < 1.0: # This is just a hack to avoid the singularity at (x0, y0).\n",
        "            field[i, j] = torch.tensor([torch.nan, torch.nan])\n",
        "            continue\n",
        "\n",
        "        X_tensor = torch.tensor([_x, _y], requires_grad=True)\n",
        "        field[i, j] = E(X_tensor)\n",
        "\n",
        "fig, ax = plt.subplots(figsize=(4, 4))\n",
        "\n",
        "X, Y = torch.meshgrid(torch.linspace(0, 10, N), torch.linspace(0, 10, N))\n",
        "\n",
        "ax.quiver(X, Y, field[:, :, 0].detach().numpy(),\n",
        "          field[:, :, 1].detach().numpy(),\n",
        "          )\n",
        "\n",
        "ax.axis('equal')"
      ]
    },
    {
      "cell_type": "markdown",
      "id": "a96d8693",
      "metadata": {
        "id": "a96d8693"
      },
      "source": [
        "Which matches the expected field rather well.\n",
        "\n",
        "An extension of this exercise would be to have the potential be the result of multiple\n",
        "point-charges at different locations - so try that at some point if you like."
      ]
    },
    {
      "cell_type": "markdown",
      "id": "35e05272",
      "metadata": {
        "id": "35e05272"
      },
      "source": [
        "### Example: Gradient Descent & Learning"
      ]
    },
    {
      "cell_type": "markdown",
      "id": "78b74cfe",
      "metadata": {
        "id": "78b74cfe"
      },
      "source": [
        "We have seen a few examples of gradients so far, another is gradient descent.\n",
        "With gradient descent we optimize a function by taking small steps in the direction\n",
        "of the gradient.\n",
        "\n",
        "There are many use cases of such optimizations, we can focus on one involving what one\n",
        "may call 'fitting', 'regression' or 'learning'. Lets say we have some experimental observations\n",
        "$[(x_1, y_1), .., (x_N, y_N)]$ that we wish to explain with a model $M_\\theta$ where $\\theta$ denotes the parameters of the model\n",
        "\n",
        "We want to find the parameters of our model that makes it fit the data the best,\n",
        "and to do so we want a function that we can minimize wrt. the parameters. One\n",
        "intuitive choice is\n",
        "\n",
        "$$\n",
        "L(\\theta) = \\frac{1}{N}\\sum_i^N \\Big(M_\\theta(x_i) - y_i\\Big)^2,\n",
        "$$\n",
        "\n",
        "which is the *mean squared error loss* between the model and the observations.\n",
        "\n",
        "We are free to choose our model, for this example we will choose a linear model\n",
        "\n",
        "$$\n",
        "M_\\theta(x) = \\alpha x + \\beta\n",
        "$$\n",
        "\n",
        "So our model has two parameters thus $\\theta = [\\alpha, \\beta]$.\n",
        "We want to minimize the loss $L$ wrt. the parameters $\\theta$ by iteratively\n",
        "taking small steps in the direction of the gradient of $L$ wrt. $\\theta$.\n",
        "That is,\n",
        "\n",
        "$$\n",
        "\\theta_{i+1} = \\theta_i - \\alpha \\nabla_\\theta L\n",
        "$$\n",
        "\n",
        "Where $\\alpha$ is typically called the learning rate. We want to calculate $ \\nabla_\\theta L$ using automatic differentiation.\n",
        "\n",
        "Lets set this up, first we could define the model"
      ]
    },
    {
      "cell_type": "code",
      "execution_count": null,
      "id": "7bdb4e98",
      "metadata": {
        "id": "7bdb4e98"
      },
      "outputs": [],
      "source": [
        "def model(x, theta):\n",
        "    return theta[0] * x + theta[1]\n",
        "\n",
        "def loss_fn(y_pred, y):\n",
        "    return torch.mean((y_pred - y)**2)"
      ]
    },
    {
      "cell_type": "markdown",
      "id": "72f551e4",
      "metadata": {
        "id": "72f551e4"
      },
      "source": [
        "The next cell creates the data we will fit to"
      ]
    },
    {
      "cell_type": "code",
      "execution_count": null,
      "id": "e277cf4e",
      "metadata": {
        "id": "e277cf4e"
      },
      "outputs": [],
      "source": [
        "from imlms.torch import get_example_data\n",
        "\n",
        "X, y = get_example_data()"
      ]
    },
    {
      "cell_type": "markdown",
      "id": "c7bf6b87",
      "metadata": {
        "id": "c7bf6b87"
      },
      "source": [
        "And finally we are ready to implement the gradient descent loop"
      ]
    },
    {
      "cell_type": "code",
      "execution_count": null,
      "id": "d7cbd088",
      "metadata": {
        "id": "d7cbd088",
        "outputId": "2d1b223b-a9bf-4e08-be1e-e28c06df8cba"
      },
      "outputs": [
        {
          "name": "stdout",
          "output_type": "stream",
          "text": [
            "Loss 0: 1.668\n",
            "Loss 10: 0.442\n",
            "Loss 20: 0.222\n",
            "Loss 30: 0.160\n",
            "Loss 40: 0.137\n",
            "Loss 50: 0.126\n",
            "Loss 60: 0.121\n",
            "Loss 70: 0.118\n",
            "Loss 80: 0.117\n",
            "Loss 90: 0.117\n"
          ]
        }
      ],
      "source": [
        "theta = torch.tensor([1.0, 1.0], requires_grad=True) # Initial parameters for the model.\n",
        "\n",
        "y_pred_initial = model(X, theta)\n",
        "\n",
        "N_steps = 100\n",
        "learning_rate = 0.05\n",
        "\n",
        "for i in range(N_steps):\n",
        "\n",
        "    y_pred = model(X, theta)\n",
        "    loss = loss_fn(y_pred, y)\n",
        "\n",
        "    if i % 10 == 0:\n",
        "        print(f\"Loss {i}: {loss.item():0.3f}\")\n",
        "\n",
        "    gradient = torch.autograd.grad(loss, theta)[0]\n",
        "\n",
        "    with torch.no_grad():\n",
        "        theta -= learning_rate * gradient\n",
        "\n",
        "y_pred_final = model(X, theta)"
      ]
    },
    {
      "cell_type": "code",
      "execution_count": null,
      "id": "d7bd48a0",
      "metadata": {
        "id": "d7bd48a0",
        "outputId": "ab5f4ed3-0d29-4c74-86fb-4e3cdf32942c"
      },
      "outputs": [
        {
          "data": {
            "text/plain": [
              "<matplotlib.legend.Legend at 0x177871d00>"
            ]
          },
          "execution_count": 78,
          "metadata": {},
          "output_type": "execute_result"
        },
        {
          "data": {
            "image/png": "[encoded data removed]",
            "text/plain": [
              "<Figure size 400x400 with 1 Axes>"
            ]
          },
          "metadata": {},
          "output_type": "display_data"
        }
      ],
      "source": [
        "fig, ax = plt.subplots(figsize=(4, 4))\n",
        "\n",
        "with torch.no_grad():\n",
        "    ax.plot(X.detach().numpy(), y_pred_initial.detach().numpy(), label=\"Initial\")\n",
        "    ax.plot(X.detach().numpy(), y_pred_final.detach().numpy(), label=\"Final\")\n",
        "    ax.scatter(X.detach().numpy(), y.detach().numpy(), label=\"Data\")\n",
        "\n",
        "ax.legend()"
      ]
    },
    {
      "cell_type": "markdown",
      "id": "32fb7df7",
      "metadata": {
        "id": "32fb7df7"
      },
      "source": [
        "### Exercise: Damped Harmonic Oscillator"
      ]
    },
    {
      "cell_type": "markdown",
      "id": "aa5f7375",
      "metadata": {
        "id": "aa5f7375"
      },
      "source": [
        "After countless hours in the lab you have gathered data on the very important\n",
        "phenonenom of quark anti-space mega amplitude. You believe that the property\n",
        "you have measured should behave like a damped harmonic oscillator following the\n",
        "expression\n",
        "\n",
        "$$\n",
        "M(t) = A \\exp^{-\\gamma t} \\cos(\\omega t)\n",
        "$$\n",
        "\n",
        "Where $t$ is the time and $A$, $\\gamma$ and $\\omega$ are parameters that you wish to\n",
        "find.\n",
        "\n",
        "Use the same methodology as above to find the best set of parameters $\\theta = [A, \\gamma, \\omega]$.\n",
        "\n",
        "The cell below generates your dataset"
      ]
    },
    {
      "cell_type": "code",
      "execution_count": null,
      "id": "a912f3b8",
      "metadata": {
        "id": "a912f3b8"
      },
      "outputs": [],
      "source": [
        "from imlms.torch import get_damped_osc_dataset\n",
        "\n",
        "t, y = get_damped_osc_dataset()"
      ]
    },
    {
      "cell_type": "markdown",
      "id": "df575708",
      "metadata": {
        "id": "df575708"
      },
      "source": [
        "Define your model and loss function"
      ]
    },
    {
      "cell_type": "code",
      "execution_count": null,
      "id": "d4989b29",
      "metadata": {
        "id": "d4989b29"
      },
      "outputs": [],
      "source": [
        "def model(t, theta):\n",
        "    A, gamma, omega = theta\n",
        "    return A * torch.exp(-gamma * t) * torch.cos(omega * t)\n",
        "\n",
        "def loss_fn(y_pred, y):\n",
        "    return torch.mean((y_pred - y)**2)"
      ]
    },
    {
      "cell_type": "markdown",
      "id": "4b8a80b3",
      "metadata": {
        "id": "4b8a80b3"
      },
      "source": [
        "Then create the training loop"
      ]
    },
    {
      "cell_type": "code",
      "execution_count": null,
      "id": "bc132b8e",
      "metadata": {
        "id": "bc132b8e",
        "outputId": "30a55303-023c-4d8f-d15d-0eccbd4b9b57"
      },
      "outputs": [
        {
          "name": "stdout",
          "output_type": "stream",
          "text": [
            "Loss 0: 0.190\n",
            "Loss 10: 0.177\n",
            "Loss 20: 0.165\n",
            "Loss 30: 0.152\n",
            "Loss 40: 0.139\n",
            "Loss 50: 0.125\n",
            "Loss 60: 0.109\n",
            "Loss 70: 0.092\n",
            "Loss 80: 0.071\n",
            "Loss 90: 0.046\n",
            "Loss 100: 0.021\n",
            "Loss 110: 0.011\n",
            "Loss 120: 0.009\n",
            "Loss 130: 0.008\n",
            "Loss 140: 0.007\n",
            "Loss 150: 0.007\n",
            "Loss 160: 0.006\n",
            "Loss 170: 0.006\n",
            "Loss 180: 0.005\n",
            "Loss 190: 0.005\n"
          ]
        }
      ],
      "source": [
        "theta = torch.tensor([1.0, 1.0, 1.0], requires_grad=True) # Initial parameters for the model.\n",
        "\n",
        "y_pred_initial = model(t, theta)\n",
        "\n",
        "N_steps = 200\n",
        "learning_rate = 0.05\n",
        "\n",
        "for i in range(N_steps):\n",
        "\n",
        "    y_pred = model(t, theta)\n",
        "    loss = loss_fn(y_pred, y)\n",
        "\n",
        "    if i % 10 == 0:\n",
        "        print(f\"Loss {i}: {loss.item():0.3f}\")\n",
        "\n",
        "    gradient = torch.autograd.grad(loss, theta)[0]\n",
        "\n",
        "    with torch.no_grad():\n",
        "        theta -= learning_rate * gradient\n",
        "\n",
        "y_pred_final = model(t, theta)"
      ]
    },
    {
      "cell_type": "code",
      "execution_count": null,
      "id": "91b2fdbf",
      "metadata": {
        "id": "91b2fdbf",
        "outputId": "e281f38e-6625-4aaa-fe79-9a73ad7f43ca"
      },
      "outputs": [
        {
          "data": {
            "text/plain": [
              "<matplotlib.legend.Legend at 0x177e095e0>"
            ]
          },
          "execution_count": 7,
          "metadata": {},
          "output_type": "execute_result"
        },
        {
          "data": {
            "image/png": "[encoded data removed]",
            "text/plain": [
              "<Figure size 400x400 with 1 Axes>"
            ]
          },
          "metadata": {},
          "output_type": "display_data"
        }
      ],
      "source": [
        "fig, ax = plt.subplots(figsize=(4, 4))\n",
        "\n",
        "with torch.no_grad():\n",
        "    ax.plot(t.detach().numpy(), y_pred_initial.detach().numpy(), label=\"Initial\")\n",
        "    ax.plot(t.detach().numpy(), y_pred_final.detach().numpy(), label=\"Final\")\n",
        "    ax.scatter(t.detach().numpy(), y.detach().numpy(), label=\"Data\")\n",
        "\n",
        "ax.legend()"
      ]
    },
    {
      "cell_type": "markdown",
      "id": "13fdbb2c",
      "metadata": {
        "id": "13fdbb2c"
      },
      "source": [
        "### Example: Torch OOP"
      ]
    },
    {
      "cell_type": "markdown",
      "id": "91f0f56d",
      "metadata": {
        "id": "91f0f56d"
      },
      "source": [
        "So far our models have been very simple, containing only a few parameters so we have\n",
        "managed to just keep them in a tensor `theta`. However, models can have a huge amount of parameters - some language models, such as ChatGPT, are thought to\n",
        "have over a trillion parameters. Keeping track of that many parameters in the way we have been doing would be difficult.\n",
        "\n",
        "Our rescue is `torch.nn.Module`, which helps us in several ways. Below is an example,\n",
        "where I have implemented the model from the previous exercise as a `torch.nn.Module`-derived\n",
        "class."
      ]
    },
    {
      "cell_type": "code",
      "execution_count": null,
      "id": "79db9166",
      "metadata": {
        "id": "79db9166"
      },
      "outputs": [],
      "source": [
        "class DampenedOscillator(torch.nn.Module):\n",
        "\n",
        "    def __init__(self):\n",
        "        super().__init__()\n",
        "        self.A = torch.nn.Parameter(torch.tensor(1.0))\n",
        "        self.omega = torch.nn.Parameter(torch.tensor(1.0))\n",
        "        self.gamma = torch.nn.Parameter(torch.tensor(1.0))\n",
        "\n",
        "    def forward(self, t):\n",
        "        return self.A * torch.exp(-self.gamma * t) * torch.cos(self.omega * t)\n"
      ]
    },
    {
      "cell_type": "markdown",
      "id": "fcaa8975",
      "metadata": {
        "id": "fcaa8975"
      },
      "source": [
        "Now all the parameters are accesible to us through methods of the our class"
      ]
    },
    {
      "cell_type": "code",
      "execution_count": null,
      "id": "af72d957",
      "metadata": {
        "id": "af72d957",
        "outputId": "a1645fce-39f4-46de-f533-14b61def0373"
      },
      "outputs": [
        {
          "name": "stdout",
          "output_type": "stream",
          "text": [
            "Parameters:\n",
            "Parameter containing:\n",
            "tensor(1., requires_grad=True)\n",
            "Parameter containing:\n",
            "tensor(1., requires_grad=True)\n",
            "Parameter containing:\n",
            "tensor(1., requires_grad=True)\n",
            "Named parameters:\n",
            "A Parameter containing:\n",
            "tensor(1., requires_grad=True)\n",
            "omega Parameter containing:\n",
            "tensor(1., requires_grad=True)\n",
            "gamma Parameter containing:\n",
            "tensor(1., requires_grad=True)\n"
          ]
        }
      ],
      "source": [
        "oscillator = DampenedOscillator()\n",
        "\n",
        "print('Parameters:')\n",
        "for parameter in oscillator.parameters():\n",
        "    print(parameter)\n",
        "\n",
        "print('Named parameters:')\n",
        "for name, parameter in oscillator.named_parameters():\n",
        "    print(name, parameter)"
      ]
    },
    {
      "cell_type": "markdown",
      "id": "0d2fc55e",
      "metadata": {
        "id": "0d2fc55e"
      },
      "source": [
        "Using the model is simple"
      ]
    },
    {
      "cell_type": "code",
      "execution_count": null,
      "id": "d738fd0c",
      "metadata": {
        "id": "d738fd0c",
        "outputId": "fc980a26-83df-4f9a-9f46-d1382b92f594"
      },
      "outputs": [
        {
          "name": "stdout",
          "output_type": "stream",
          "text": [
            "tensor([1.]) tensor([0.1988], grad_fn=<MulBackward0>)\n"
          ]
        }
      ],
      "source": [
        "t = torch.tensor([1.0])\n",
        "y = oscillator(t) # Equivalent to calling oscillator.forward(t)\n",
        "print(t, y)"
      ]
    }
  ],
  "metadata": {
    "colab": {
      "provenance": []
    },
    "language_info": {
      "name": "python"
    },
    "kernelspec": {
      "name": "python3",
      "display_name": "Python 3"
    }
  },
  "nbformat": 4,
  "nbformat_minor": 5
}