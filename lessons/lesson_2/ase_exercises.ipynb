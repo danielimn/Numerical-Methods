{
  "cells": [
    {
      "cell_type": "code",
      "execution_count": 9,
      "id": "bd87444a",
      "metadata": {
        "id": "bd87444a"
      },
      "outputs": [],
      "source": [
        "%%capture install\n",
        "try:\n",
        "  import imlms\n",
        "  print('Already installed')\n",
        "except:\n",
        "  %pip install git+https://github.com/Mads-PeterVC/imlms"
      ]
    },
    {
      "cell_type": "code",
      "execution_count": 10,
      "id": "f6cd3bcb",
      "metadata": {
        "id": "f6cd3bcb",
        "outputId": "2c9ba0b9-c50c-4848-967e-57db25c80354",
        "colab": {
          "base_uri": "https://localhost:8080/"
        }
      },
      "outputs": [
        {
          "output_type": "stream",
          "name": "stdout",
          "text": [
            "Already installed\n"
          ]
        }
      ],
      "source": [
        "print(install.stdout.splitlines()[-1])"
      ]
    },
    {
      "cell_type": "code",
      "execution_count": 12,
      "id": "e2d9fac3",
      "metadata": {
        "id": "e2d9fac3"
      },
      "outputs": [],
      "source": [
        "from ase import Atoms"
      ]
    },
    {
      "cell_type": "markdown",
      "id": "536a3e1b",
      "metadata": {
        "id": "536a3e1b"
      },
      "source": [
        "# Atomic Simulation Environment"
      ]
    },
    {
      "cell_type": "markdown",
      "id": "172ee890",
      "metadata": {
        "id": "172ee890"
      },
      "source": [
        "An atomic configuration is defined by\n",
        "\n",
        "- The Cartesian positions of atoms\n",
        "- The atomic species\n",
        "- A simulation cell (possibly with periodic boundary conditions)\n",
        "\n",
        "So we could define a hydrogen molecule like so"
      ]
    },
    {
      "cell_type": "markdown",
      "id": "8591206e",
      "metadata": {
        "id": "8591206e"
      },
      "source": [
        "This is however quite clumsy, there's nothing in the code that keeps this three\n",
        "variables together so we would need to always make to use the correct three\n",
        "together.\n",
        "\n",
        "We could put them in a tuple,"
      ]
    },
    {
      "cell_type": "code",
      "execution_count": null,
      "id": "4bc15047",
      "metadata": {
        "id": "4bc15047"
      },
      "outputs": [],
      "source": [
        "positions = [[4.5, 5, 5], [5.5, 5, 5]]\n",
        "numbers = [1, 1]\n",
        "cell = [[10, 0, 0], [0, 10.0, 0], [0, 0, 10.0]] # 3x3 matrix, each row is a cell vector."
      ]
    },
    {
      "cell_type": "code",
      "execution_count": null,
      "id": "68eebdd8",
      "metadata": {
        "id": "68eebdd8"
      },
      "outputs": [],
      "source": [
        "molecule = (positions, numbers, cell)"
      ]
    },
    {
      "cell_type": "markdown",
      "id": "0e918af8",
      "metadata": {
        "id": "0e918af8"
      },
      "source": [
        "Which is already an improvement, however we may leverage object-oriented spirit of Python\n",
        "and define a custom class that contains these variables.\n",
        "Luckily, others have done this for us and this is, part of, what the `ase` package provides."
      ]
    },
    {
      "cell_type": "code",
      "execution_count": null,
      "id": "4ef7ee04",
      "metadata": {
        "id": "4ef7ee04"
      },
      "outputs": [],
      "source": [
        "from ase import Atoms\n",
        "\n",
        "molecule = Atoms(positions=[[4.5, 5, 5], [5.5, 5, 5]],\n",
        "                 numbers=[1, 1],\n",
        "                #  symbols='H2' # Alternative to numbers\n",
        "                 cell=[10, 10, 10], # ASE assumes a cubic cell when just given a list of 3 numbers.\n",
        "                 pbc=[False, False, False]) # The cell is not periodic in any direction. pbc = Periodic Boundary Conditions"
      ]
    },
    {
      "cell_type": "markdown",
      "id": "4fd64a60",
      "metadata": {
        "id": "4fd64a60"
      },
      "source": [
        "This also allows us to benefit from other utility of `ase`"
      ]
    },
    {
      "cell_type": "code",
      "execution_count": 8,
      "id": "76211812",
      "metadata": {
        "id": "76211812",
        "outputId": "26b8babf-1bce-4488-bdeb-40ece12d93cf",
        "colab": {
          "base_uri": "https://localhost:8080/",
          "height": 317
        }
      },
      "outputs": [
        {
          "output_type": "execute_result",
          "data": {
            "text/plain": [
              "<IPython.core.display.HTML object>"
            ],
            "text/html": [
              "<html>\n",
              "    <head>\n",
              "        <title>ASE atomic visualization</title>\n",
              "        <link rel=\"stylesheet\" type=\"text/css\"             href=\"https://www.x3dom.org/release/x3dom.css\"></link>\n",
              "        <script type=\"text/javascript\"             src=\"https://www.x3dom.org/release/x3dom.js\"></script>\n",
              "    </head>\n",
              "    <body>\n",
              "        <X3D width=\"400px\"; height=\"300px\";>\n",
              "\n",
              "<!--Inserting Generated X3D Scene-->\n",
              "<scene>\n",
              "  <viewpoint position=\"0 0 20.0\">\n",
              "    <group/>\n",
              "  </viewpoint>\n",
              "  <transform translation=\"-5.0 -5.0 -5.0\">\n",
              "    <group>\n",
              "      <group>\n",
              "        <transform translation=\"0 0 0\">\n",
              "          <shape>\n",
              "            <appearance>\n",
              "              <material diffuseColor=\"0 0 0\"/>\n",
              "            </appearance>\n",
              "            <lineset vertexCount=\"5\">\n",
              "              <coordinate point=\"0 0 0 10.0 0.0 0.0 10.0 10.0 0.0 0.0 10.0 0.0 0 0 0\"/>\n",
              "            </lineset>\n",
              "          </shape>\n",
              "        </transform>\n",
              "        <transform translation=\"0.0 0.0 10.0\">\n",
              "          <shape>\n",
              "            <appearance>\n",
              "              <material diffuseColor=\"0 0 0\"/>\n",
              "            </appearance>\n",
              "            <lineset vertexCount=\"5\">\n",
              "              <coordinate point=\"0 0 0 10.0 0.0 0.0 10.0 10.0 0.0 0.0 10.0 0.0 0 0 0\"/>\n",
              "            </lineset>\n",
              "          </shape>\n",
              "        </transform>\n",
              "        <transform translation=\"0 0 0\">\n",
              "          <shape>\n",
              "            <appearance>\n",
              "              <material diffuseColor=\"0 0 0\"/>\n",
              "            </appearance>\n",
              "            <lineset vertexCount=\"5\">\n",
              "              <coordinate point=\"0 0 0 10.0 0.0 0.0 10.0 0.0 10.0 0.0 0.0 10.0 0 0 0\"/>\n",
              "            </lineset>\n",
              "          </shape>\n",
              "        </transform>\n",
              "        <transform translation=\"0.0 10.0 0.0\">\n",
              "          <shape>\n",
              "            <appearance>\n",
              "              <material diffuseColor=\"0 0 0\"/>\n",
              "            </appearance>\n",
              "            <lineset vertexCount=\"5\">\n",
              "              <coordinate point=\"0 0 0 10.0 0.0 0.0 10.0 0.0 10.0 0.0 0.0 10.0 0 0 0\"/>\n",
              "            </lineset>\n",
              "          </shape>\n",
              "        </transform>\n",
              "      </group>\n",
              "      <group>\n",
              "        <transform translation=\"4.5 5.0 5.0\">\n",
              "          <shape>\n",
              "            <appearance>\n",
              "              <material diffuseColor=\"1.0 1.0 1.0\"/>\n",
              "            </appearance>\n",
              "            <sphere radius=\"0.31\"/>\n",
              "          </shape>\n",
              "        </transform>\n",
              "        <transform translation=\"5.5 5.0 5.0\">\n",
              "          <shape>\n",
              "            <appearance>\n",
              "              <material diffuseColor=\"1.0 1.0 1.0\"/>\n",
              "            </appearance>\n",
              "            <sphere radius=\"0.31\"/>\n",
              "          </shape>\n",
              "        </transform>\n",
              "      </group>\n",
              "    </group>\n",
              "  </transform>\n",
              "</scene>\n",
              "<!--End of Inserted Scene-->\n",
              "\n",
              "        </X3D>\n",
              "    </body>\n",
              "</html>\n",
              "\n"
            ]
          },
          "metadata": {},
          "execution_count": 8
        }
      ],
      "source": [
        "from ase.visualize import view\n",
        "\n",
        "view(molecule, viewer='x3d')"
      ]
    },
    {
      "cell_type": "markdown",
      "id": "cf50e742",
      "metadata": {
        "id": "cf50e742"
      },
      "source": [
        "### Exercise: Water molecule"
      ]
    },
    {
      "cell_type": "markdown",
      "id": "6d514ff4",
      "metadata": {
        "id": "6d514ff4"
      },
      "source": [
        "Use `ase` to define a water molecule.\n",
        "\n",
        "Hint: You can look up the oxygen-hydrogen bond length and the angle between the hydrogens [online](https://en.wikipedia.org/wiki/Water#/media/File:H2O_2D_labelled.svg) and use\n",
        "those to determine the positions of the three atoms.\n",
        "\n",
        "You may choose the computational cell yourself."
      ]
    },
    {
      "cell_type": "code",
      "source": [
        "from ase import Atoms\n",
        "\n",
        "molecule = Atoms(positions=[[0.48492, 2, 2], [2, 3.17416, 2], [3.51508, 2, 2]],\n",
        "                 numbers=[1, 1, 1], cell=[4, 4, 4], pbc=[False, False, False])"
      ],
      "metadata": {
        "id": "qAlCe-qyygcc"
      },
      "id": "qAlCe-qyygcc",
      "execution_count": 68,
      "outputs": []
    },
    {
      "cell_type": "code",
      "source": [
        "from ase.visualize import view\n",
        "\n",
        "view(molecule, viewer='x3d')"
      ],
      "metadata": {
        "id": "TGltXLXoynZW",
        "outputId": "76b9e9dc-26e4-45c5-a4c2-b4a7c6e6b1a7",
        "colab": {
          "base_uri": "https://localhost:8080/",
          "height": 317
        }
      },
      "id": "TGltXLXoynZW",
      "execution_count": 69,
      "outputs": [
        {
          "output_type": "execute_result",
          "data": {
            "text/plain": [
              "<IPython.core.display.HTML object>"
            ],
            "text/html": [
              "<html>\n",
              "    <head>\n",
              "        <title>ASE atomic visualization</title>\n",
              "        <link rel=\"stylesheet\" type=\"text/css\"             href=\"https://www.x3dom.org/release/x3dom.css\"></link>\n",
              "        <script type=\"text/javascript\"             src=\"https://www.x3dom.org/release/x3dom.js\"></script>\n",
              "    </head>\n",
              "    <body>\n",
              "        <X3D width=\"400px\"; height=\"300px\";>\n",
              "\n",
              "<!--Inserting Generated X3D Scene-->\n",
              "<scene>\n",
              "  <viewpoint position=\"0 0 8.0\">\n",
              "    <group/>\n",
              "  </viewpoint>\n",
              "  <transform translation=\"-2.0 -2.0 -2.0\">\n",
              "    <group>\n",
              "      <group>\n",
              "        <transform translation=\"0 0 0\">\n",
              "          <shape>\n",
              "            <appearance>\n",
              "              <material diffuseColor=\"0 0 0\"/>\n",
              "            </appearance>\n",
              "            <lineset vertexCount=\"5\">\n",
              "              <coordinate point=\"0 0 0 4.0 0.0 0.0 4.0 4.0 0.0 0.0 4.0 0.0 0 0 0\"/>\n",
              "            </lineset>\n",
              "          </shape>\n",
              "        </transform>\n",
              "        <transform translation=\"0.0 0.0 4.0\">\n",
              "          <shape>\n",
              "            <appearance>\n",
              "              <material diffuseColor=\"0 0 0\"/>\n",
              "            </appearance>\n",
              "            <lineset vertexCount=\"5\">\n",
              "              <coordinate point=\"0 0 0 4.0 0.0 0.0 4.0 4.0 0.0 0.0 4.0 0.0 0 0 0\"/>\n",
              "            </lineset>\n",
              "          </shape>\n",
              "        </transform>\n",
              "        <transform translation=\"0 0 0\">\n",
              "          <shape>\n",
              "            <appearance>\n",
              "              <material diffuseColor=\"0 0 0\"/>\n",
              "            </appearance>\n",
              "            <lineset vertexCount=\"5\">\n",
              "              <coordinate point=\"0 0 0 4.0 0.0 0.0 4.0 0.0 4.0 0.0 0.0 4.0 0 0 0\"/>\n",
              "            </lineset>\n",
              "          </shape>\n",
              "        </transform>\n",
              "        <transform translation=\"0.0 4.0 0.0\">\n",
              "          <shape>\n",
              "            <appearance>\n",
              "              <material diffuseColor=\"0 0 0\"/>\n",
              "            </appearance>\n",
              "            <lineset vertexCount=\"5\">\n",
              "              <coordinate point=\"0 0 0 4.0 0.0 0.0 4.0 0.0 4.0 0.0 0.0 4.0 0 0 0\"/>\n",
              "            </lineset>\n",
              "          </shape>\n",
              "        </transform>\n",
              "      </group>\n",
              "      <group>\n",
              "        <transform translation=\"0.48492 2.0 2.0\">\n",
              "          <shape>\n",
              "            <appearance>\n",
              "              <material diffuseColor=\"1.0 1.0 1.0\"/>\n",
              "            </appearance>\n",
              "            <sphere radius=\"0.31\"/>\n",
              "          </shape>\n",
              "        </transform>\n",
              "        <transform translation=\"2.0 3.17416 2.0\">\n",
              "          <shape>\n",
              "            <appearance>\n",
              "              <material diffuseColor=\"1.0 1.0 1.0\"/>\n",
              "            </appearance>\n",
              "            <sphere radius=\"0.31\"/>\n",
              "          </shape>\n",
              "        </transform>\n",
              "        <transform translation=\"3.51508 2.0 2.0\">\n",
              "          <shape>\n",
              "            <appearance>\n",
              "              <material diffuseColor=\"1.0 1.0 1.0\"/>\n",
              "            </appearance>\n",
              "            <sphere radius=\"0.31\"/>\n",
              "          </shape>\n",
              "        </transform>\n",
              "      </group>\n",
              "    </group>\n",
              "  </transform>\n",
              "</scene>\n",
              "<!--End of Inserted Scene-->\n",
              "\n",
              "        </X3D>\n",
              "    </body>\n",
              "</html>\n",
              "\n"
            ]
          },
          "metadata": {},
          "execution_count": 69
        }
      ]
    },
    {
      "cell_type": "markdown",
      "id": "8b3dff6f",
      "metadata": {
        "id": "8b3dff6f"
      },
      "source": [
        "### Exercise: Two water molecules"
      ]
    },
    {
      "cell_type": "markdown",
      "id": "8280304f",
      "metadata": {
        "id": "8280304f"
      },
      "source": [
        "Use the water molecule you defined before to make a cell containing two\n",
        "water molecules.\n",
        "\n",
        "You can use\n",
        "```\n",
        "atoms_combined = atoms_1 + atoms_2\n",
        "```\n",
        "Where `atoms_1` and `atoms_2` are instances of `Atoms` objects."
      ]
    },
    {
      "cell_type": "code",
      "execution_count": 107,
      "id": "f6c7eb7a",
      "metadata": {
        "id": "f6c7eb7a"
      },
      "outputs": [],
      "source": [
        "atoms_1 = Atoms(positions=[[0.48492, 2, 2], [2, 3.17416, 2], [3.51508, 2, 2]],\n",
        "                 numbers=[1, 1, 1], cell=[8, 4, 4], pbc=[False, False, False])\n",
        "atoms_2 = Atoms(positions=[[0.48492+4, 2, 2], [2+4, 3.17416, 2], [3.51508+4, 2, 2]],\n",
        "                 numbers=[1, 1, 1], cell=[8, 4, 4], pbc=[False, False, False])\n"
      ]
    },
    {
      "cell_type": "code",
      "source": [
        "atoms_combined = atoms_1 + atoms_2"
      ],
      "metadata": {
        "id": "JG89pelX7o-4"
      },
      "id": "JG89pelX7o-4",
      "execution_count": 108,
      "outputs": []
    },
    {
      "cell_type": "code",
      "source": [
        "from ase.visualize import view\n",
        "\n",
        "view(atoms_combined, viewer='x3d')"
      ],
      "metadata": {
        "id": "mzmuw1BoBMfq",
        "outputId": "9d288075-bf81-4729-db82-2d2116333c0b",
        "colab": {
          "base_uri": "https://localhost:8080/",
          "height": 317
        }
      },
      "id": "mzmuw1BoBMfq",
      "execution_count": 110,
      "outputs": [
        {
          "output_type": "execute_result",
          "data": {
            "text/plain": [
              "<IPython.core.display.HTML object>"
            ],
            "text/html": [
              "<html>\n",
              "    <head>\n",
              "        <title>ASE atomic visualization</title>\n",
              "        <link rel=\"stylesheet\" type=\"text/css\"             href=\"https://www.x3dom.org/release/x3dom.css\"></link>\n",
              "        <script type=\"text/javascript\"             src=\"https://www.x3dom.org/release/x3dom.js\"></script>\n",
              "    </head>\n",
              "    <body>\n",
              "        <X3D width=\"400px\"; height=\"300px\";>\n",
              "\n",
              "<!--Inserting Generated X3D Scene-->\n",
              "<scene>\n",
              "  <viewpoint position=\"0 0 16.0\">\n",
              "    <group/>\n",
              "  </viewpoint>\n",
              "  <transform translation=\"-4.0 -2.0 -2.0\">\n",
              "    <group>\n",
              "      <group>\n",
              "        <transform translation=\"0 0 0\">\n",
              "          <shape>\n",
              "            <appearance>\n",
              "              <material diffuseColor=\"0 0 0\"/>\n",
              "            </appearance>\n",
              "            <lineset vertexCount=\"5\">\n",
              "              <coordinate point=\"0 0 0 8.0 0.0 0.0 8.0 4.0 0.0 0.0 4.0 0.0 0 0 0\"/>\n",
              "            </lineset>\n",
              "          </shape>\n",
              "        </transform>\n",
              "        <transform translation=\"0.0 0.0 4.0\">\n",
              "          <shape>\n",
              "            <appearance>\n",
              "              <material diffuseColor=\"0 0 0\"/>\n",
              "            </appearance>\n",
              "            <lineset vertexCount=\"5\">\n",
              "              <coordinate point=\"0 0 0 8.0 0.0 0.0 8.0 4.0 0.0 0.0 4.0 0.0 0 0 0\"/>\n",
              "            </lineset>\n",
              "          </shape>\n",
              "        </transform>\n",
              "        <transform translation=\"0 0 0\">\n",
              "          <shape>\n",
              "            <appearance>\n",
              "              <material diffuseColor=\"0 0 0\"/>\n",
              "            </appearance>\n",
              "            <lineset vertexCount=\"5\">\n",
              "              <coordinate point=\"0 0 0 8.0 0.0 0.0 8.0 0.0 4.0 0.0 0.0 4.0 0 0 0\"/>\n",
              "            </lineset>\n",
              "          </shape>\n",
              "        </transform>\n",
              "        <transform translation=\"0.0 4.0 0.0\">\n",
              "          <shape>\n",
              "            <appearance>\n",
              "              <material diffuseColor=\"0 0 0\"/>\n",
              "            </appearance>\n",
              "            <lineset vertexCount=\"5\">\n",
              "              <coordinate point=\"0 0 0 8.0 0.0 0.0 8.0 0.0 4.0 0.0 0.0 4.0 0 0 0\"/>\n",
              "            </lineset>\n",
              "          </shape>\n",
              "        </transform>\n",
              "      </group>\n",
              "      <group>\n",
              "        <transform translation=\"0.48492 2.0 2.0\">\n",
              "          <shape>\n",
              "            <appearance>\n",
              "              <material diffuseColor=\"1.0 1.0 1.0\"/>\n",
              "            </appearance>\n",
              "            <sphere radius=\"0.31\"/>\n",
              "          </shape>\n",
              "        </transform>\n",
              "        <transform translation=\"2.0 3.17416 2.0\">\n",
              "          <shape>\n",
              "            <appearance>\n",
              "              <material diffuseColor=\"1.0 1.0 1.0\"/>\n",
              "            </appearance>\n",
              "            <sphere radius=\"0.31\"/>\n",
              "          </shape>\n",
              "        </transform>\n",
              "        <transform translation=\"3.51508 2.0 2.0\">\n",
              "          <shape>\n",
              "            <appearance>\n",
              "              <material diffuseColor=\"1.0 1.0 1.0\"/>\n",
              "            </appearance>\n",
              "            <sphere radius=\"0.31\"/>\n",
              "          </shape>\n",
              "        </transform>\n",
              "        <transform translation=\"4.48492 2.0 2.0\">\n",
              "          <shape>\n",
              "            <appearance>\n",
              "              <material diffuseColor=\"1.0 1.0 1.0\"/>\n",
              "            </appearance>\n",
              "            <sphere radius=\"0.31\"/>\n",
              "          </shape>\n",
              "        </transform>\n",
              "        <transform translation=\"6.0 3.17416 2.0\">\n",
              "          <shape>\n",
              "            <appearance>\n",
              "              <material diffuseColor=\"1.0 1.0 1.0\"/>\n",
              "            </appearance>\n",
              "            <sphere radius=\"0.31\"/>\n",
              "          </shape>\n",
              "        </transform>\n",
              "        <transform translation=\"7.51508 2.0 2.0\">\n",
              "          <shape>\n",
              "            <appearance>\n",
              "              <material diffuseColor=\"1.0 1.0 1.0\"/>\n",
              "            </appearance>\n",
              "            <sphere radius=\"0.31\"/>\n",
              "          </shape>\n",
              "        </transform>\n",
              "      </group>\n",
              "    </group>\n",
              "  </transform>\n",
              "</scene>\n",
              "<!--End of Inserted Scene-->\n",
              "\n",
              "        </X3D>\n",
              "    </body>\n",
              "</html>\n",
              "\n"
            ]
          },
          "metadata": {},
          "execution_count": 110
        }
      ]
    },
    {
      "cell_type": "markdown",
      "id": "f9cc3d4b",
      "metadata": {
        "id": "f9cc3d4b"
      },
      "source": [
        "### Exercise: Crystalline silver"
      ]
    },
    {
      "cell_type": "markdown",
      "id": "298e734a",
      "metadata": {
        "id": "298e734a"
      },
      "source": [
        "![Depiction of the fcc crystal structure of silver](https://www.e-education.psu.edu/matse81/sites/www.e-education.psu.edu.matse81/files/images/lesson05/FCC.png)\n",
        "\n",
        "In material science a crystal is a material that is periodic in every direction,\n",
        "that is it consists of a infinitely repeating unit cell.\n",
        "\n",
        "Silver has the face-centred cubic crystal structure where each side of the unit cell\n",
        "has length of a, also known as the lattice constant.\n",
        "\n",
        "The cell contains four silver atoms\n",
        "- 1/8 of an atom placed at every corner\n",
        "- Half an atom placed in the middle of each of the faces.\n",
        "\n",
        "Because of periodic boundary conditions half an atom in each face corresponds, to one atom in half the faces.\n",
        "An eigth of an atom at every corner is equivalent to one atom at the origin.\n",
        "\n",
        "Write a *function* `get_fcc_silver(a)` that takes the lattice constant as an input and returns an `Atoms`\n",
        "object for fcc silver with that lattice constant."
      ]
    },
    {
      "cell_type": "code",
      "execution_count": null,
      "id": "993609b3",
      "metadata": {
        "id": "993609b3"
      },
      "outputs": [],
      "source": [
        "def get_fcc_silver(a):\n",
        "    crystal = 0 # Your code here\n",
        "    return crystal"
      ]
    },
    {
      "cell_type": "markdown",
      "id": "ab915d7f",
      "metadata": {
        "id": "ab915d7f"
      },
      "source": [
        "Another important part of `ase` is that it interfaces to many methods for calculating\n",
        "the total energy of an `Atoms`-object, such as\n",
        "\n",
        "- **Density Functional Theory**: GPAW, VASP, QuantumEspresso, Abinit, etc..\n",
        "- **Empirical potentials**: Lennard Jones, Effective Medium Theory, ..\n",
        "\n",
        "These are all approximations for solving the many electron time-independent Schrodinger equation.\n",
        "An energy calculation can be performed, like so"
      ]
    },
    {
      "cell_type": "code",
      "execution_count": null,
      "id": "bbaa0948",
      "metadata": {
        "id": "bbaa0948"
      },
      "outputs": [],
      "source": [
        "from ase.calculators.emt import EMT\n",
        "\n",
        "# Define the calculator.\n",
        "# The one used here is Effective Medium Theory, which is a relatively\n",
        "# simple empirical potential so it doesn't require any additional settings.\n",
        "calculator = EMT()\n",
        "\n",
        "# Get the atoms object\n",
        "atoms = get_fcc_silver(4.0)\n",
        "\n",
        "# Attach the calculator to the atoms object\n",
        "atoms.calc = calculator\n",
        "\n",
        "# Perform the calculation\n",
        "energy = atoms.get_potential_energy()\n",
        "print(energy)"
      ]
    },
    {
      "cell_type": "markdown",
      "id": "c8ae4b40",
      "metadata": {
        "id": "c8ae4b40"
      },
      "source": [
        "Use your function `get_fcc_silver` to calculate the total energy for\n",
        "several lattice constants and make a plot of the total energy as a\n",
        "function of the lattice constant.\n",
        "\n",
        "If everything goes well you should get a parabolic curve where the minimum value\n",
        "is in good agreement with e.g. wikipedia."
      ]
    },
    {
      "cell_type": "code",
      "execution_count": null,
      "id": "a59c29a0",
      "metadata": {
        "id": "a59c29a0"
      },
      "outputs": [],
      "source": [
        "import numpy as np\n",
        "lattice_constants = np.linspace(3.8, 4.2, 50)\n",
        "energies = np.zeros_like(lattice_constants)\n",
        "\n",
        "# Your code here: Loop over lattice_constants and calculate the energy for each one and store it in the energies array."
      ]
    },
    {
      "cell_type": "markdown",
      "id": "5ab901b6",
      "metadata": {
        "id": "5ab901b6"
      },
      "source": [
        "The cell below plots the energy as a function of the lattice constant."
      ]
    },
    {
      "cell_type": "code",
      "execution_count": null,
      "id": "cddc1678",
      "metadata": {
        "id": "cddc1678"
      },
      "outputs": [],
      "source": [
        "import matplotlib.pyplot as plt\n",
        "\n",
        "fig, ax = plt.subplots(figsize=(4, 3))\n",
        "\n",
        "ax.plot(lattice_constants, energies)\n",
        "optimal = lattice_constants[np.argmin(energies)]\n",
        "ax.axvline(optimal, color='black')\n",
        "\n",
        "ax.set_xlabel('Lattice constant [Å]')\n",
        "ax.set_ylabel('Total energy [eV]')\n",
        "ax.set_title(f'Optimal lattice constant: {optimal: 0.3f} Å')\n",
        "plt.show()"
      ]
    },
    {
      "cell_type": "markdown",
      "id": "c6fd5be0",
      "metadata": {
        "id": "c6fd5be0"
      },
      "source": [
        "### Exercise: Oxygen adsorption on Ag(100)"
      ]
    },
    {
      "cell_type": "markdown",
      "id": "330b2fc2",
      "metadata": {
        "id": "330b2fc2"
      },
      "source": [
        "We can also model surfaces, this is done by having periodic boundary conditions in\n",
        "two dimensions and adding vacuum in the third.\n",
        "\n",
        "`ase` provides utility functions to construct such configurations."
      ]
    },
    {
      "cell_type": "code",
      "execution_count": null,
      "id": "78c1c992",
      "metadata": {
        "id": "78c1c992"
      },
      "outputs": [],
      "source": [
        "from ase.build import fcc100\n",
        "\n",
        "surface = fcc100(symbol='Ag',\n",
        "                 size=(5, 5, 3), # Repeat the unit cell 5 times in x and y, and 3 times in z.\n",
        "                 vacuum=10.0,\n",
        "                 a=4.06) # Add 10 Å of vacuum in the z-direction.\n",
        "\n",
        "view(surface, viewer='x3d')"
      ]
    },
    {
      "cell_type": "markdown",
      "id": "36a8c378",
      "metadata": {
        "id": "36a8c378"
      },
      "source": [
        "This surface has three unique adsorption sites\n",
        "\n",
        "- Top sites: Directly above a silver atom in the top layer.\n",
        "- Bridge sites: In the middle between two silver atoms in the top layer.\n",
        "- Hollow site: In the center of four silver atoms in the top layer.\n",
        "\n",
        "Write three functions that create the surface with an oxygen atom in each of these\n",
        "three configurations given a z-coordinate, that is\n",
        "\n",
        "- `get_top_site(z)`\n",
        "- `get_bridge_site(z)`\n",
        "- `get_hollow_site(z)`\n",
        "\n",
        "Hint: You can find the $x$ and $y$ coordinates for each site as average over the $x$ or $y$ coordinates\n",
        "of selected atoms from the surface. To find the indices of atoms to average over, use the viewer/gui.\n",
        "For example;\n",
        "\n",
        "`bridge_site_x = (surface.positions[62, 0] + surface.positions[67, 0]) / 2`\n",
        "\n",
        "Hint: Create an `Atoms` object for the surface and the oxygen separately and add them together\n",
        "like you did for the molecules."
      ]
    },
    {
      "cell_type": "code",
      "execution_count": null,
      "id": "1e23bdfc",
      "metadata": {
        "id": "1e23bdfc"
      },
      "outputs": [],
      "source": [
        "def get_surface():\n",
        "    surface = fcc100(symbol='Ag',\n",
        "                 size=(5, 5, 3), # Repeat the unit cell 5 times in x and y, and 3 times in z.\n",
        "                 vacuum=10.0,\n",
        "                 a=4.06) # Add 10 Å of vacuum in the z-direction.\n",
        "    return surface\n",
        "\n",
        "\n",
        "def get_top_site(z):\n",
        "    \"\"\"\n",
        "    Indices on 5x5x3: 62\n",
        "    \"\"\"\n",
        "    surface = get_surface()\n",
        "    x = 0 # Your code here\n",
        "    y = 0 # Your code here\n",
        "    adsorbant = Atoms('O', positions=[[x, y, z]])\n",
        "    return surface + adsorbant\n",
        "\n",
        "def get_bridge_site(z):\n",
        "    \"\"\"\n",
        "    Indices on 5x5x3: 62, 67\n",
        "    \"\"\"\n",
        "    surface = get_surface()\n",
        "    indices = [62, 67]\n",
        "    x = 0 # Your code here\n",
        "    y = 0 # Your code here\n",
        "    adsorbant = Atoms('O', positions=[[x, y, z]])\n",
        "    return surface + adsorbant\n",
        "\n",
        "def get_hollow_site(z):\n",
        "    \"\"\"\n",
        "    Indices on 5x5x3: 62, 67\n",
        "    \"\"\"\n",
        "    surface = get_surface()\n",
        "    indices = [62, 67, 63, 68]\n",
        "    x = 0 # Your code here\n",
        "    y = 0 # Your code here\n",
        "    adsorbant = Atoms('O', positions=[[x, y, z]])\n",
        "    return surface + adsorbant"
      ]
    },
    {
      "cell_type": "markdown",
      "id": "888d706a",
      "metadata": {
        "id": "888d706a"
      },
      "source": [
        "Now calculate the energy as a function of the z-position of the oxygen for each\n",
        "of the sites to determine the optimal oxygen adsorption position.\n",
        "\n",
        "To do so make a function that takes one of the `get_<site>_site`-function,\n",
        "a list of z-values and a calculator and returns the energy for each value of z."
      ]
    },
    {
      "cell_type": "code",
      "execution_count": null,
      "id": "db34934a",
      "metadata": {
        "id": "db34934a"
      },
      "outputs": [],
      "source": [
        "def evaluate_site(site_func, z, calc):\n",
        "    energies = np.zeros_like(z) # Array to store solution\n",
        "    # Your code here:\n",
        "    # Create a loop over z and calculate the energy for each value.\n",
        "    return energies"
      ]
    },
    {
      "cell_type": "markdown",
      "id": "cf63541f",
      "metadata": {
        "id": "cf63541f"
      },
      "source": [
        "The cell below creates a plot of the energy as a function of the height for\n",
        "each adsorption site."
      ]
    },
    {
      "cell_type": "code",
      "execution_count": null,
      "id": "50e6fd37",
      "metadata": {
        "id": "50e6fd37"
      },
      "outputs": [],
      "source": [
        "calculator = EMT()\n",
        "z_positions = np.linspace(14.5, 16.5, 50)\n",
        "energies_top = evaluate_site(get_top_site, z_positions, calculator)\n",
        "energies_bridge = evaluate_site(get_bridge_site, z_positions, calculator)\n",
        "energies_hollow = evaluate_site(get_hollow_site, z_positions, calculator)\n",
        "\n",
        "# Plot the results\n",
        "fig, ax = plt.subplots(figsize=(6, 4))\n",
        "\n",
        "ax.plot(z_positions, energies_top, label='Top site')\n",
        "ax.plot(z_positions, energies_bridge, label='Bridge site')\n",
        "ax.plot(z_positions, energies_hollow, label='Hollow site')\n",
        "\n",
        "ax.set_xlabel('z-position [Å]')\n",
        "ax.set_ylabel('Total energy [eV]')\n",
        "ax.set_title('Energy vs. z-position for Oxygen Adsorption on Ag(100)')\n",
        "ax.legend()\n",
        "\n",
        "e_min = min(energies_top.min(), energies_bridge.min(), energies_hollow.min())\n",
        "ax.set_ylim([e_min - 0.1, e_min + 5])\n",
        "\n",
        "plt.show()"
      ]
    },
    {
      "cell_type": "markdown",
      "id": "af73303e",
      "metadata": {
        "id": "af73303e"
      },
      "source": [
        "You should find that oxygen binds slightly more strongly to the hollow site.\n",
        "\n",
        "However, the potential we used (EMT) is not particularly accurate for this system.\n",
        "But doing higher accuracy calculations e.g. requires more computational resources\n",
        "than a typical machine has access to.\n",
        "\n",
        "However, this is an instance where machine learning can help us! In recent years\n",
        "machine-learning based potentials trained on very large databases of high quality\n",
        "calculations have become available. One such is SevenNet, which we can try using;"
      ]
    },
    {
      "cell_type": "code",
      "execution_count": null,
      "id": "529e3f3e",
      "metadata": {
        "id": "529e3f3e"
      },
      "outputs": [],
      "source": [
        "from sevenn.sevennet_calculator import SevenNetCalculator"
      ]
    },
    {
      "cell_type": "code",
      "execution_count": null,
      "id": "1f5fabd0",
      "metadata": {
        "id": "1f5fabd0"
      },
      "outputs": [],
      "source": [
        "\n",
        "# Only make the calculator once, takes awhile to create each time.\n",
        "calculator = SevenNetCalculator(model='7net-0', device='cpu')\n",
        "z_positions = np.linspace(14.75, 18.5, 50)\n",
        "energies_top = evaluate_site(get_top_site, z_positions, calculator)\n",
        "energies_bridge = evaluate_site(get_bridge_site, z_positions, calculator)\n",
        "energies_hollow = evaluate_site(get_hollow_site, z_positions, calculator)\n",
        "\n",
        "# Plot the results\n",
        "fig, ax = plt.subplots(figsize=(6, 4))\n",
        "\n",
        "ax.plot(z_positions, energies_top, label='Top site')\n",
        "ax.plot(z_positions, energies_bridge, label='Bridge site')\n",
        "ax.plot(z_positions, energies_hollow, label='Hollow site')\n",
        "\n",
        "ax.set_xlabel('z-position [Å]')\n",
        "ax.set_ylabel('Total energy [eV]')\n",
        "ax.set_title('Energy vs. z-position for Oxygen Adsorption on Ag(100)')\n",
        "ax.legend()\n",
        "\n",
        "e_min = min(energies_top.min(), energies_bridge.min(), energies_hollow.min())\n",
        "ax.set_ylim([e_min - 0.1, e_min + 5])\n",
        "\n",
        "plt.show()"
      ]
    }
  ],
  "metadata": {
    "colab": {
      "provenance": []
    },
    "language_info": {
      "name": "python"
    },
    "kernelspec": {
      "name": "python3",
      "display_name": "Python 3"
    }
  },
  "nbformat": 4,
  "nbformat_minor": 5
}