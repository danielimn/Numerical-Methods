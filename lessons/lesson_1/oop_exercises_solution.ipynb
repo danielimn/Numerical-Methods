{
  "cells": [
    {
      "cell_type": "code",
      "execution_count": 1,
      "id": "6011857c",
      "metadata": {
        "id": "6011857c"
      },
      "outputs": [],
      "source": [
        "%%capture install\n",
        "try:\n",
        "  import imlms\n",
        "  print('Already installed')\n",
        "except:\n",
        "  %pip install git+https://github.com/Mads-PeterVC/imlms"
      ]
    },
    {
      "cell_type": "code",
      "execution_count": 2,
      "id": "12f7d78c",
      "metadata": {
        "id": "12f7d78c",
        "outputId": "09539e63-db1d-4cf7-dd8a-342d29700344",
        "colab": {
          "base_uri": "https://localhost:8080/"
        }
      },
      "outputs": [
        {
          "output_type": "stream",
          "name": "stdout",
          "text": [
            "Successfully installed agox-3.9.0 ase-3.24.0 braceexpand-0.1.7 dscribe-2.1.1 e3nn-0.5.4 imlms-0.1.0 matscipy-1.1.1 opt-einsum-fx-0.1.4 ray-2.41.0 rich-click-1.8.5 sevenn-0.10.3 sparse-0.15.5 torch_geometric-2.6.1\n"
          ]
        }
      ],
      "source": [
        "print(install.stdout.splitlines()[-1])"
      ]
    },
    {
      "cell_type": "code",
      "execution_count": 3,
      "id": "d7efbdba",
      "metadata": {
        "id": "d7efbdba"
      },
      "outputs": [],
      "source": [
        "import matplotlib.pyplot as plt\n",
        "import numpy as np"
      ]
    },
    {
      "cell_type": "markdown",
      "id": "ee5904fb",
      "metadata": {
        "id": "ee5904fb"
      },
      "source": [
        "# Object Oriented Programming"
      ]
    },
    {
      "cell_type": "markdown",
      "id": "d22f4559",
      "metadata": {
        "id": "d22f4559"
      },
      "source": [
        "In Python everything is an an instance some class of \"objects\", for example\n",
        "an integer is an instance of the `int` type, as we may check using the `type` function"
      ]
    },
    {
      "cell_type": "code",
      "execution_count": 4,
      "id": "32dd0198",
      "metadata": {
        "id": "32dd0198",
        "outputId": "7bed44c5-cb3f-4ed3-ce02-49f50d42b789",
        "colab": {
          "base_uri": "https://localhost:8080/"
        }
      },
      "outputs": [
        {
          "output_type": "execute_result",
          "data": {
            "text/plain": [
              "int"
            ]
          },
          "metadata": {},
          "execution_count": 4
        }
      ],
      "source": [
        "type(1)"
      ]
    },
    {
      "cell_type": "markdown",
      "id": "0f8c70fa",
      "metadata": {
        "id": "0f8c70fa"
      },
      "source": [
        "So far we have mostly used built-in types or types from libraries e.g. Numpys `array`.\n",
        "However, it is often useful to understand how to make our own types.\n",
        "\n",
        "This is done by creating a class using the `class` statement. You can think of\n",
        "a class definition as a blueprint for instances of the class."
      ]
    },
    {
      "cell_type": "code",
      "execution_count": 5,
      "id": "08da1f59",
      "metadata": {
        "id": "08da1f59"
      },
      "outputs": [],
      "source": [
        "class FoodItem:\n",
        "\n",
        "    def __init__(self, name, price_pr_unit):\n",
        "        \"\"\"\n",
        "        The constructor of the class FoodItem, this __init__ method is\n",
        "        called when a new object of the class is created.\n",
        "        \"\"\"\n",
        "        self.name = name\n",
        "        self.price_pr_unit = price_pr_unit\n",
        "\n",
        "    def __str__(self):\n",
        "        \"\"\"\n",
        "        This method is called when the object is printed, for example by the print() function.\n",
        "        \"\"\"\n",
        "        return f\"{self.name}: ${self.price_pr_unit}\""
      ]
    },
    {
      "cell_type": "markdown",
      "id": "eedd1ef7",
      "metadata": {
        "id": "eedd1ef7"
      },
      "source": [
        "We can then create instances of our class,"
      ]
    },
    {
      "cell_type": "code",
      "execution_count": 8,
      "id": "7e8acce7",
      "metadata": {
        "id": "7e8acce7",
        "outputId": "b7b61f09-dcbe-4e39-d166-2db4231cff6e",
        "colab": {
          "base_uri": "https://localhost:8080/"
        }
      },
      "outputs": [
        {
          "output_type": "stream",
          "name": "stdout",
          "text": [
            "Tamal: $25\n",
            "Burrito: $15\n"
          ]
        }
      ],
      "source": [
        "tamal = FoodItem(\"Tamal\", 25)\n",
        "burrito = FoodItem(\"Burrito\", 15)\n",
        "\n",
        "print(tamal)\n",
        "print(burrito)"
      ]
    },
    {
      "cell_type": "markdown",
      "id": "a9355d4d",
      "metadata": {
        "id": "a9355d4d"
      },
      "source": [
        "However, the power of classes come when using inheritance.\n",
        "\n",
        "With inheritance we can make classes that inherit functionality from the parent\n",
        "class and possibly with new added functionality.\n",
        "\n",
        "For example, we may inherit from `FoodItem` to create a `Tamal` class and a `Burrito` class\n",
        "that each have slightly different logic."
      ]
    },
    {
      "cell_type": "code",
      "execution_count": 9,
      "id": "d27e5fd6",
      "metadata": {
        "id": "d27e5fd6"
      },
      "outputs": [],
      "source": [
        "class Tamal(FoodItem):\n",
        "\n",
        "    def __init__(self, tamal_type):\n",
        "        super().__init__(\"Tamal\", 25)\n",
        "        if tamal_type in [\"elote\", \"carne con chile\"]:\n",
        "            self.tamal_type = tamal_type\n",
        "        else:\n",
        "            raise ValueError(f\"Invalid tamal type: {tamal_type}\")\n",
        "\n",
        "class Burrito(FoodItem):\n",
        "\n",
        "    def __init__(self, burrito_type):\n",
        "        if burrito_type in [\"machaca\", \"carne asada\", \"frijol\"]:\n",
        "            self.burrito_type = burrito_type\n",
        "        else:\n",
        "            raise ValueError(f\"Invalid burrito type: {burrito_type}\")\n",
        "\n",
        "        if burrito_type == \"machaca\":\n",
        "            price = 20\n",
        "        elif burrito_type == \"carne asada\":\n",
        "            price = 30\n",
        "        elif burrito_type == \"frijol\":\n",
        "            price = 15\n",
        "        super().__init__(\"Burrito\", price)\n"
      ]
    },
    {
      "cell_type": "markdown",
      "id": "142d88fa",
      "metadata": {
        "id": "142d88fa"
      },
      "source": [
        "Classes have attributes, e.g. for the `FoodItem`-class the price is an attribute.\n",
        "We can access attributes for instances of the class with `.`-notation"
      ]
    },
    {
      "cell_type": "code",
      "execution_count": 10,
      "id": "fe39cfb5",
      "metadata": {
        "id": "fe39cfb5",
        "outputId": "34de0eec-40f7-46a3-99ec-cd3b61e676bd",
        "colab": {
          "base_uri": "https://localhost:8080/"
        }
      },
      "outputs": [
        {
          "output_type": "stream",
          "name": "stdout",
          "text": [
            "25\n",
            "20\n"
          ]
        }
      ],
      "source": [
        "carne_tamal = Tamal(\"carne con chile\")\n",
        "print(carne_tamal.price_pr_unit)\n",
        "\n",
        "machaca_burrito = Burrito(\"machaca\")\n",
        "print(machaca_burrito.price_pr_unit)"
      ]
    },
    {
      "cell_type": "markdown",
      "id": "2e32f7a6",
      "metadata": {
        "id": "2e32f7a6"
      },
      "source": [
        "Classes lets us write code where we are sure that some attribute exists, e.g.\n",
        "we can now write a `price_calculator`-function that calculates the total price\n",
        "of a list of `FoodItem`-instances"
      ]
    },
    {
      "cell_type": "code",
      "execution_count": 11,
      "id": "1f493785",
      "metadata": {
        "id": "1f493785",
        "outputId": "e85725bf-dc7e-47b2-fcd6-dd29bbfacdec",
        "colab": {
          "base_uri": "https://localhost:8080/"
        }
      },
      "outputs": [
        {
          "output_type": "stream",
          "name": "stdout",
          "text": [
            "45\n"
          ]
        }
      ],
      "source": [
        "def price_calculator(food_items):\n",
        "    total_price = 0\n",
        "    for food_item in food_items:\n",
        "        total_price += food_item.price_pr_unit\n",
        "    return total_price\n",
        "\n",
        "food_items = [carne_tamal, machaca_burrito]\n",
        "total_price = price_calculator(food_items)\n",
        "print(total_price)"
      ]
    },
    {
      "cell_type": "markdown",
      "id": "a3e0b84d",
      "metadata": {
        "id": "a3e0b84d"
      },
      "source": [
        "If we make a new class that inherits from `FoodItem` this continues to work"
      ]
    },
    {
      "cell_type": "code",
      "execution_count": 12,
      "id": "42c48efc",
      "metadata": {
        "id": "42c48efc"
      },
      "outputs": [],
      "source": [
        "class Chilaquiles(FoodItem):\n",
        "\n",
        "    def __init__(self, chilaquiles_type, spice_level):\n",
        "        if chilaquiles_type in [\"verdes\", \"rojos\", \"mole\"]:\n",
        "            self.chilaquiles_type = chilaquiles_type\n",
        "        else:\n",
        "            raise ValueError(f\"Invalid chilaquiles type: {chilaquiles_type}\")\n",
        "\n",
        "        if spice_level in [\"mild\", \"medium\", \"hot\"]:\n",
        "            self.spice_level = spice_level\n",
        "\n",
        "        super().__init__(\"Chilaquiles\", 50)"
      ]
    },
    {
      "cell_type": "code",
      "execution_count": 13,
      "id": "462c59ba",
      "metadata": {
        "id": "462c59ba",
        "outputId": "b7981dc9-b99b-46b6-c0ce-bb8d70de2b40",
        "colab": {
          "base_uri": "https://localhost:8080/"
        }
      },
      "outputs": [
        {
          "output_type": "stream",
          "name": "stdout",
          "text": [
            "95\n"
          ]
        }
      ],
      "source": [
        "food_items = [carne_tamal, machaca_burrito]\n",
        "food_items.append(Chilaquiles(\"verdes\", \"hot\"))\n",
        "total_price = price_calculator(food_items)\n",
        "print(total_price)"
      ]
    },
    {
      "cell_type": "markdown",
      "id": "6249b086",
      "metadata": {
        "id": "6249b086"
      },
      "source": [
        "### Exercise: A Triangle Class"
      ]
    },
    {
      "cell_type": "markdown",
      "id": "da60b751",
      "metadata": {
        "id": "da60b751"
      },
      "source": [
        "Create a `Triangle`-class with the following attribute:\n",
        "\n",
        "- positions: An (3x2)-np.array of the positions\n",
        "- color: A string for the color of the triangle\n",
        "\n",
        "Additionally, the class should have the following methods\n",
        "\n",
        "- `__init__`: Initialization method\n",
        "- `plot`: Plot the triangle in a given `ax`.\n",
        "- `move`: Move the triangle by the given `delta` which is also an np.array\n",
        "- `rotate`: Rotate the triangle given an `angle` in [0, 2 $\\pi$].\n",
        "- `change_color` Change the color of the triangle.\n",
        "\n",
        "Hint: For the rotation method you should create a rotation matrix and calculate new positions as the dot product\n",
        "between that matrix and the positions attribute. You can use `np.cos`, `np.sin` and `np.dot` - note that the trigonometric functions use radians."
      ]
    },
    {
      "cell_type": "code",
      "execution_count": 14,
      "id": "358828be",
      "metadata": {
        "id": "358828be"
      },
      "outputs": [],
      "source": [
        "\n",
        "class Triangle:\n",
        "\n",
        "    def __init__(self, positions, color='red'):\n",
        "        self.positions = np.array(positions)\n",
        "        self.color = color\n",
        "\n",
        "    def plot(self, ax):\n",
        "        ax.fill(self.positions[:, 0], self.positions[:, 1], color=self.color)\n",
        "\n",
        "    def move(self, delta):\n",
        "        self.positions += delta\n",
        "\n",
        "    def rotate(self, angle):\n",
        "        matrix = np.array([[np.cos(angle), -np.sin(angle)], [np.sin(angle), np.cos(angle)]])\n",
        "        self.positions = np.dot(self.positions, matrix)\n",
        "\n",
        "    def change_color(self, new_color):\n",
        "        self.color = new_color"
      ]
    },
    {
      "cell_type": "markdown",
      "id": "ae18c3d9",
      "metadata": {
        "id": "ae18c3d9"
      },
      "source": [
        "Try your class and each method"
      ]
    },
    {
      "cell_type": "code",
      "execution_count": 15,
      "id": "1f299a52",
      "metadata": {
        "id": "1f299a52",
        "outputId": "7997f462-992a-411d-da0e-d0506abef40f",
        "colab": {
          "base_uri": "https://localhost:8080/",
          "height": 385
        }
      },
      "outputs": [
        {
          "output_type": "execute_result",
          "data": {
            "text/plain": [
              "(-0.2, 4.2, -1.25, 4.25)"
            ]
          },
          "metadata": {},
          "execution_count": 15
        },
        {
          "output_type": "display_data",
          "data": {
            "text/plain": [
              "<Figure size 400x400 with 1 Axes>"
            ],
            "image/png": "[encoded data removed]"
          },
          "metadata": {}
        }
      ],
      "source": [
        "triangle = Triangle([[0, 0], [1, 0], [0, 1]], color='green')\n",
        "triangle_1 = Triangle([[3, 3], [3, 4], [4, 3]], color='blue')\n",
        "\n",
        "triangle.rotate(np.pi/2)\n",
        "\n",
        "fig, ax = plt.subplots(figsize=(4, 4))\n",
        "\n",
        "triangle.plot(ax)\n",
        "triangle_1.plot(ax)\n",
        "\n",
        "ax.axis('equal')"
      ]
    },
    {
      "cell_type": "markdown",
      "id": "d3c8d3d0",
      "metadata": {
        "id": "d3c8d3d0"
      },
      "source": [
        "### Exercise: Projectile Motion"
      ]
    },
    {
      "cell_type": "markdown",
      "id": "31dbed53",
      "metadata": {
        "id": "31dbed53"
      },
      "source": [
        "Create a `Projectile`-class with the following attributes\n",
        "\n",
        "- `launch_velocity`: A `float` representing the velocity in m/s.\n",
        "- `launch_angle`: A `float` for the angle in degrees.\n",
        "- `position`: `tuple` of `float` for the position in 2D `(x, y)`.\n",
        "- `time`: A `float` for the elapsed time since launch.\n",
        "\n",
        "Additionally the class should have two methods\n",
        "\n",
        "- `__init__`: The constructor that creates an instance of the class.\n",
        "- `update_position`: Update the positions given a timestep `dt`.\n",
        "- `is_in_air`: Check whether the projectile is still in the air returning a `bool`.\n",
        "\n",
        "The update should follow the kinematics of motion, where horizontal and vertical motion is given by\n",
        "\n",
        "$$\n",
        "x = v_x t\n",
        "$$\n",
        "\n",
        "$$\n",
        "y = v_y t - \\frac{1}{2}g t^2\n",
        "$$\n",
        "And the velocity components depend on the launch angle $\\theta$\n",
        "\n",
        "$$\n",
        "v_x = v \\cos(\\theta)\n",
        "$$\n",
        "$$\n",
        "v_y = v \\sin(\\theta)\n",
        "$$\n",
        "\n",
        "Your `update_position` method should thus take small time step `dt`\n",
        "and increase the total time `self.time` and then calculate the positions\n",
        "for that time.\n",
        "\n",
        "To check whether the projectile still is in the air, check that $y > 0$."
      ]
    },
    {
      "cell_type": "code",
      "execution_count": null,
      "id": "3dda1fa2",
      "metadata": {
        "id": "3dda1fa2"
      },
      "outputs": [],
      "source": [
        "from math import sin, cos\n",
        "\n",
        "class Projectile:\n",
        "\n",
        "    def __init__(self, launch_velocity, launch_angle):\n",
        "        self.launch_velocity = launch_velocity\n",
        "        self.launch_angle = launch_angle\n",
        "        self.position = (0.0, 0.0)\n",
        "        self.time = 0.0\n",
        "\n",
        "    def update_position(self, dt):\n",
        "        g = 9.8  # Acceleration due to gravity (m/s^2)\n",
        "        vx = self.launch_velocity * cos(self.launch_angle)\n",
        "        vy = self.launch_velocity * sin(self.launch_angle)\n",
        "\n",
        "        self.time += dt\n",
        "        x = vx * self.time\n",
        "        y = vy * self.time - 0.5 * g * self.time**2\n",
        "        self.position = (x, y)  # Ensure y >= 0 (ground level)\n",
        "\n",
        "    def is_in_air(self):\n",
        "        return self.position[1] >= 0"
      ]
    },
    {
      "cell_type": "code",
      "execution_count": null,
      "id": "c94eecb2",
      "metadata": {
        "id": "c94eecb2",
        "outputId": "69c4b74b-b947-49eb-d2af-e0b4c0de44ed"
      },
      "outputs": [
        {
          "name": "stdout",
          "output_type": "stream",
          "text": [
            "Time: 0.1s, Position: (0.5253219888177297, 0.8019035245341185)\n",
            "Time: 0.2s, Position: (1.0506439776354595, 1.505807049068237)\n",
            "Time: 0.3s, Position: (1.5759659664531895, 2.1117105736023554)\n",
            "Time: 0.4s, Position: (2.101287955270919, 2.619614098136474)\n",
            "Time: 0.5s, Position: (2.626609944088649, 3.029517622670592)\n",
            "Time: 0.6s, Position: (3.1519319329063786, 3.34142114720471)\n",
            "Time: 0.7s, Position: (3.677253921724108, 3.5553246717388287)\n",
            "Time: 0.8s, Position: (4.202575910541838, 3.671228196272948)\n",
            "Time: 0.9s, Position: (4.727897899359568, 3.689131720807066)\n",
            "Time: 1.0s, Position: (5.253219888177297, 3.6090352453411834)\n",
            "Time: 1.1s, Position: (5.7785418769950265, 3.4309387698753033)\n",
            "Time: 1.2s, Position: (6.303863865812757, 3.1548422944094208)\n",
            "Time: 1.3s, Position: (6.829185854630487, 2.78074581894354)\n",
            "Time: 1.4s, Position: (7.354507843448217, 2.308649343477656)\n",
            "Time: 1.5s, Position: (7.879829832265948, 1.7385528680117766)\n",
            "Time: 1.6s, Position: (8.405151821083678, 1.0704563925458928)\n",
            "Time: 1.7s, Position: (8.930473809901407, 0.3043599170800082)\n",
            "Time: 1.8s, Position: (9.455795798719139, -0.5597365583858718)\n"
          ]
        }
      ],
      "source": [
        "projectile = Projectile(10, 45)\n",
        "\n",
        "# Simulate its motion\n",
        "dt = 0.1  # Time step\n",
        "while projectile.is_in_air():\n",
        "    projectile.update_position(dt)\n",
        "    print(f\"Time: {projectile.time:.1f}s, Position: {projectile.position}\")"
      ]
    },
    {
      "cell_type": "markdown",
      "id": "c2d4d12a",
      "metadata": {
        "id": "c2d4d12a"
      },
      "source": [
        "We can then track the projectiles motion and plot the trajectory"
      ]
    },
    {
      "cell_type": "code",
      "execution_count": null,
      "id": "e5cd8646",
      "metadata": {
        "id": "e5cd8646",
        "outputId": "6a50f4eb-cfed-479a-afff-19eeae0f920c"
      },
      "outputs": [
        {
          "data": {
            "image/png": "[encoded data removed]",
            "text/plain": [
              "<Figure size 640x480 with 1 Axes>"
            ]
          },
          "metadata": {},
          "output_type": "display_data"
        }
      ],
      "source": [
        "import matplotlib.pyplot as plt\n",
        "\n",
        "# Initialize projectile and empty lists for positions\n",
        "projectile = Projectile(20, 45)\n",
        "x_vals, y_vals = [], []\n",
        "\n",
        "# Simulate motion\n",
        "dt = 0.1\n",
        "while projectile.is_in_air():\n",
        "    projectile.update_position(dt)\n",
        "    x_vals.append(projectile.position[0])\n",
        "    y_vals.append(projectile.position[1])\n",
        "\n",
        "# Plot trajectory\n",
        "plt.plot(x_vals, y_vals)\n",
        "plt.title(\"Projectile Motion\")\n",
        "plt.xlabel(\"Horizontal Distance (m)\")\n",
        "plt.ylabel(\"Vertical Distance (m)\")\n",
        "plt.show()\n"
      ]
    },
    {
      "cell_type": "markdown",
      "id": "1fa121e4",
      "metadata": {
        "id": "1fa121e4"
      },
      "source": [
        "### Exercise: Elastic Collisions"
      ]
    },
    {
      "cell_type": "markdown",
      "id": "808d10d4",
      "metadata": {
        "id": "808d10d4"
      },
      "source": [
        "Create a `Particle` class and a `System`-class for the simulation of elastic collisions.\n",
        "\n",
        "The particle class should contain the following attributes\n",
        "\n",
        "- `mass`: The mass of the particle, a float\n",
        "- `position`: A 2d array of the position of the particle\n",
        "- `velocity`: A 2d array of the velocity of the particle\n",
        "- `radius`: The radius of the particle, float.\n",
        "\n",
        "The particle class should also have these methods\n",
        "\n",
        "- `move`: Takes a timestep `dt` and moves the particle according to its velocity.\n",
        "- `check_collision`: Check whether the particle has collided with another particle by being closer than the sum of their radii. Takes another particle as input.\n",
        "- `plot`: Draw the particle in a given axis.\n",
        "- `calculate_kinetic_energy`: Returns the kinetic energy of the particle"
      ]
    },
    {
      "cell_type": "code",
      "execution_count": null,
      "id": "f9f5835f",
      "metadata": {
        "id": "f9f5835f"
      },
      "outputs": [],
      "source": [
        "class Particle:\n",
        "\n",
        "    def __init__(self, mass, position, velocity, radius=1.0):\n",
        "        self.mass = mass\n",
        "        self.position = np.array(position)\n",
        "        self.velocity = np.array(velocity)\n",
        "        self.radius = radius\n",
        "\n",
        "    def move(self, dt):\n",
        "        self.position += self.velocity * dt\n",
        "\n",
        "    def check_collision(self, other_particle):\n",
        "        distance = np.linalg.norm(self.position - other_particle.position)\n",
        "        return distance < self.radius + other_particle.radius\n",
        "\n",
        "    def plot(self, ax):\n",
        "        circle = plt.Circle(self.position, self.radius, color='b', fill=False)\n",
        "        ax.add_artist(circle)\n",
        "        ax.draw_artist(circle)"
      ]
    },
    {
      "cell_type": "markdown",
      "id": "1e4975bf",
      "metadata": {
        "id": "1e4975bf"
      },
      "source": [
        "The `System` class has attributes\n",
        "\n",
        "- `particles` A list of `Particle` instances\n",
        "\n",
        "And methods\n",
        "\n",
        "- `add_particle`: Add a particle to the list of particles by appending it to the `particles` list.\n",
        "- `evovle`: Takes a timestep `dt` and evolves the system according to the velocities of the particles. Should also check for collisions and update the particles velocities according to the equations of an elastic collisions.\n",
        "\n",
        "The important equations can be found on [Wikipedia](https://en.wikipedia.org/wiki/Elastic_collision#Two-dimensional_collision_with_two_moving_objects)"
      ]
    },
    {
      "cell_type": "code",
      "execution_count": null,
      "id": "0595789c",
      "metadata": {
        "id": "0595789c"
      },
      "outputs": [],
      "source": [
        "class System:\n",
        "\n",
        "    def __init__(self):\n",
        "        self.particles = []\n",
        "\n",
        "    def add_particle(self, particle):\n",
        "        self.particles.append(particle)\n",
        "\n",
        "    def evolve(self, dt):\n",
        "        for i, particle in enumerate(self.particles):\n",
        "            particle.move(dt)\n",
        "            for j, other_particle in enumerate(self.particles):\n",
        "                if i > j:\n",
        "                    if particle.check_collision(other_particle):\n",
        "                        particle.collide(other_particle)"
      ]
    },
    {
      "cell_type": "markdown",
      "id": "46a2337a",
      "metadata": {
        "id": "46a2337a"
      },
      "source": [
        "Test your code by creating to particles that are on a collision trajectory, check that the kinetic energy is conserved\n",
        "(e.g. plot the kinetic energy as function of time).\n",
        "\n",
        "After that you can create a system with more particles. You can also try creating an animation of the system using\n",
        "[matplotlib](https://matplotlib.org/stable/api/_as_gen/matplotlib.animation.FuncAnimation.html)."
      ]
    },
    {
      "cell_type": "code",
      "execution_count": null,
      "id": "109aec72",
      "metadata": {
        "id": "109aec72"
      },
      "outputs": [],
      "source": []
    }
  ],
  "metadata": {
    "colab": {
      "provenance": []
    },
    "language_info": {
      "name": "python"
    },
    "kernelspec": {
      "name": "python3",
      "display_name": "Python 3"
    }
  },
  "nbformat": 4,
  "nbformat_minor": 5
}